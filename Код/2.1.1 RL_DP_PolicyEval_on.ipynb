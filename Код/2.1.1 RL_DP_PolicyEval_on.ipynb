{
 "cells": [
  {
   "cell_type": "markdown",
   "metadata": {},
   "source": [
    "# Методы ДП для оценки функции ценности\n",
    "\n",
    "Для демонстрации методов вычисления функции ценности состояний $v(s)$, рассмотрим задачу о сеточном мире из книги Р. Саттона и Э. Барто \"Обучение с подкреплением\", а также задачу о замёрзшем озере `FrozenLake` из библиотеки `gymnasium`.\n"
   ]
  },
  {
   "attachments": {
    "3netW2.png": {
     "image/png": "[encoded data removed]"
    }
   },
   "cell_type": "markdown",
   "metadata": {},
   "source": [
    "### Пример 1\n",
    "\n",
    "Средой является сеточный мир, который представляет собой клеточное поле размера 4 на 4 клетки. На поле есть две клетки с заключительными состояниями, которые отмечены серым цветом. Различные клетки соответствуют различным состояниям среды. Cостояния будем нумеровать индексами от 0 до 15. Незаключительными являются состояния из множества $\\{1, 2, ..., 14\\}$. \n",
    "\n",
    "![3netW2.png](attachment:3netW2.png)\n",
    "\n",
    "В каждой клетке возможно 4 действия - это перемещения по полю в 4 направлениях. Действия пронумерованы от 0 до 3:\n",
    "\n",
    "    0: влево\n",
    "    1: вниз\n",
    "    2: вправо\n",
    "    3: вверх \n",
    "    \n",
    "Эти действия детерминированно переводят агента в соседнюю ячейку в соответствующем направлении. При этом:\n",
    "\n",
    "* вознаграждение при любом переходе из незаключительных состояний равно $–1$; \n",
    "* в заключительных состояниях любое действие ведёт в него же, вознаграждение за любое действие равно $0$ и взаимодействие прекращается;\n",
    "* действия, которые могли бы вывести агента за пределы сетки, оставляют его на месте с вознаграждением $–1$. \n"
   ]
  },
  {
   "cell_type": "markdown",
   "metadata": {},
   "source": [
    "Ключевым элементом дискретных сред, имеющих полное описание динамики среды, является набор данных `env.P`. Программно в языке Python этот набор данных будем представлять словарём словарей. У внешнего словаря ключами являются состояния $s$, а значениями `env.P[s]` будут словари, в которых ключи - это действия $a$, значения внутреннего словаря `env.P[s][a]`, хранят список, каждый элемент которого представляет собой кортеж (или tuple) из 4-х значений вида\n",
    "\n",
    "$(p(s',r|s,a), s', r, terminated),$\n",
    "\n",
    "то есть вероятность перехода в состояние $s'$ с вознаграждением $r$, состояние $s'$, вознаграждение $r$ и флаг $terminated$ о том, является ли состояние заключительным.\n",
    "\n",
    "Программно эта среда реализована в отдельном файле `custom\\env\\gridworld.py`"
   ]
  },
  {
   "cell_type": "code",
   "execution_count": 11,
   "metadata": {},
   "outputs": [],
   "source": [
    "import numpy as np\n",
    "import matplotlib.pyplot as plt\n",
    "import gymnasium as gym\n",
    "# подгрузка среды\n",
    "from custom.env.gridworld import GridWorld4by4"
   ]
  },
  {
   "cell_type": "markdown",
   "metadata": {},
   "source": [
    "Создадим экземпляр среды в переменной `env`. Для инициализации среды можно использовать метод `env.reset()`"
   ]
  },
  {
   "cell_type": "code",
   "execution_count": 12,
   "metadata": {},
   "outputs": [
    {
     "name": "stdout",
     "output_type": "stream",
     "text": [
      "11\n"
     ]
    }
   ],
   "source": [
    "env = GridWorld4by4()\n",
    "st, _ = env.reset()\n",
    "print(st)"
   ]
  },
  {
   "cell_type": "code",
   "execution_count": 13,
   "metadata": {},
   "outputs": [
    {
     "name": "stdout",
     "output_type": "stream",
     "text": [
      "0\n",
      "1\n",
      "2\n",
      "4\n",
      "4\n",
      "5\n",
      "6\n",
      "8\n",
      "8\n",
      "9\n",
      "10\n",
      "12\n",
      "12\n",
      "13\n",
      "15\n"
     ]
    }
   ],
   "source": [
    "# проверка работы на действиях влево во всех состояниях\n",
    "for state in range(1,16):\n",
    "    \n",
    "    env.state = state\n",
    "    new_state, _, _, _, _ = env.step(0)\n",
    "    print(new_state)"
   ]
  },
  {
   "cell_type": "markdown",
   "metadata": {},
   "source": [
    "Можно также посмотреть информацию из набора данных `env.P` о динамике среды."
   ]
  },
  {
   "cell_type": "code",
   "execution_count": 7,
   "metadata": {},
   "outputs": [
    {
     "data": {
      "text/plain": [
       "{0: [(1.0, 2, -1, False)],\n",
       " 1: [(1.0, 7, -1, False)],\n",
       " 2: [(1.0, 3, -1, False)],\n",
       " 3: [(1.0, 3, -1, False)]}"
      ]
     },
     "execution_count": 7,
     "metadata": {},
     "output_type": "execute_result"
    }
   ],
   "source": [
    "env.P[3]"
   ]
  },
  {
   "cell_type": "markdown",
   "metadata": {},
   "source": [
    "Пусть агент действует по некоторой стратегии $\\pi$. В каждом из состояний возможно одно из 4-х действий. Будем обозначать действия влево, вниз, вправо, вверх за  $a_1,a_2,a_3,a_4$, соответственно. Значит, для каждого состояния $s$ надо задать список из четырёх чисел \n",
    "$$[\\pi(a_1|s),\\pi(a_2|s),\\pi(a_3|s),\\pi(a_4|s)],$$\n",
    "означающих вероятность выбора того или иного действия в состоянии $s$.\n",
    "\n",
    "Программно стратегию будем задавать в виде массива чисел `policy` размера 16 на 4.\n",
    "\n",
    "Вычисление функции ценности реализуем в виде двух отдельных функций: **по итеративному методу** и **точному методу**. \n",
    "\n",
    "Итеративный метод реализуем с **in-place** вычислениями."
   ]
  },
  {
   "cell_type": "markdown",
   "metadata": {},
   "source": [
    "#### Итеративный метод\n",
    "\n",
    "Итеративная формула обновления оценки ценности состояния $s$ имеет вид\n",
    "\n",
    "$V(s) := \\sum\\limits_{a\\in {\\mathcal A}} \\pi(a|s)  \n",
    "\\sum\\limits_{s'\\in {\\mathcal S}}\n",
    "\\sum\\limits_{r\\in {\\mathcal R}}\n",
    "p(s',r|s,a) (r + \\gamma V(s')), \\quad s\\in {\\mathcal S},$\n",
    "\n",
    "где $V(s)$ оценка ценности состояния $s$, $p(s',r|s,a)$ вероятность перехода из состояния $s$ при действии $a$ в состояние $s'$ с вознаграждением $r$. \n",
    "\n",
    "Критерий остановки сформируем как в псевдокоде в лекции."
   ]
  },
  {
   "cell_type": "code",
   "execution_count": 17,
   "metadata": {},
   "outputs": [],
   "source": [
    "def PolicyEvaluation(env, policy, gamma, theta=1e-5):\n",
    "    nS = env.observation_space.n # количество различных состояний    \n",
    "    V = np.zeros(nS)             # начальная оценка ценностей состояний\n",
    "    error = []       # массив для хранения ошибки\n",
    "    while True:\n",
    "        delta = 0\n",
    "        # Вычисление новых оценок для всех состояний\n",
    "        for state in range(nS):         \n",
    "            v_s_old = V[state] # запоминаем значение v(s), для его сравнения с обновлённым значением v(s)\n",
    "            v_s = 0 # для вычисления обновлённого значения v(s)        \n",
    "            act_probs = policy[state]\n",
    "            for act, act_prob in enumerate(act_probs):\n",
    "                for next_sr in env.P[state][act]:\n",
    "                    trans_prob, new_state, reward, _ = next_sr\n",
    "                    v_s += act_prob * trans_prob * (reward + gamma * V[new_state])\n",
    "            V[state] = v_s\n",
    "            # найдём разницу между старым и новым значением v(s)\n",
    "            delta = np.max([delta, np.abs(V[state] - v_s_old)])\n",
    "        # Критерий завершения итераций\n",
    "        error.append(delta)\n",
    "        if delta < theta:\n",
    "            break\n",
    "    return V, error"
   ]
  },
  {
   "cell_type": "markdown",
   "metadata": {},
   "source": [
    "#### Точный метод\n",
    "\n",
    "Надо сформировать матрицу $I-\\gamma P$ и столбец $R$. Здесь $I$ единичная матрица, $P = \\{P^{\\pi}(s'|s)\\}$ матрица вероятностей перехода из состояния $s$ в состояние $s'$:\n",
    "\n",
    "$P^{\\pi}(s'|s) = \\sum\\limits_{a\\in {\\mathcal A}} \\pi(a|s)  \n",
    "\\sum\\limits_{r\\in {\\mathcal R}} p(s',r|s,a) = \\sum\\limits_{a\\in {\\mathcal A}(s,s')} \\pi(a|s)$,\n",
    "\n",
    "где ${\\mathcal A}(s,s')$ - это те действия, которые переведут состояние $s$ в $s'$ с ненулевой вероятностью (если оно пусто, то сумма равна 0).\n",
    "\n",
    "Столбец $R = \\{R^{\\pi}(s)\\}$ состоит из ожидаемых вознаграждений в состояниях $s \\in {\\mathcal S}$:\n",
    "\n",
    "$R^{\\pi}(s) = \\sum\\limits_{a\\in {\\mathcal A}} \\pi(a|s) \n",
    "\\sum\\limits_{r\\in {\\mathcal R}} r \\sum\\limits_{s'\\in {\\mathcal S}}p(s',r|s,a)  = \\sum\\limits_{a\\in {\\mathcal A}(s,s')} \\pi(a|s) r.$"
   ]
  },
  {
   "cell_type": "markdown",
   "metadata": {},
   "source": [
    "### Задача: реализовать точный метод"
   ]
  },
  {
   "cell_type": "code",
   "execution_count": 19,
   "metadata": {},
   "outputs": [],
   "source": [
    "def PolicyEvaluationExact(env, policy, gamma):\n",
    "# нахождение точных значений функции ценности из решения СЛАУ\n",
    "    ...\n",
    "    ...\n",
    "    ...\n",
    "    \n",
    "    return V"
   ]
  },
  {
   "cell_type": "markdown",
   "metadata": {},
   "source": [
    "Предположим, что агент следует **равновероятной** случайной стратегии (все действия выбираются с одинаковой вероятностью). Вычислим функцию ценности состояний $v_\\pi(s)$ при такой стратегии и при $\\gamma = 0.9.$\n",
    "Выведем также график убывания ошибки."
   ]
  },
  {
   "cell_type": "code",
   "execution_count": 21,
   "metadata": {},
   "outputs": [
    {
     "name": "stdout",
     "output_type": "stream",
     "text": [
      "[[ 0.    -5.278 -7.128 -7.65 ]\n",
      " [-5.278 -6.606 -7.181 -7.128]\n",
      " [-7.128 -7.181 -6.606 -5.278]\n",
      " [-7.65  -7.128 -5.278  0.   ]]\n"
     ]
    },
    {
     "data": {
      "text/plain": [
       "[<matplotlib.lines.Line2D at 0x19ef8467fb0>]"
      ]
     },
     "execution_count": 21,
     "metadata": {},
     "output_type": "execute_result"
    },
    {
     "data": {
      "image/png": "[encoded data removed]",
      "text/plain": [
       "<Figure size 900x300 with 1 Axes>"
      ]
     },
     "metadata": {},
     "output_type": "display_data"
    }
   ],
   "source": [
    "gamma = 0.9\n",
    "policy = np.zeros((env.observation_space.n, env.action_space.n)) + 1/4\n",
    "\n",
    "# итеративное вычисление функции ценности \n",
    "new_value, error = PolicyEvaluation(env, policy, gamma)\n",
    "print(np.round(new_value,3).reshape(4,4))\n",
    "plt.figure(figsize=(9,3))\n",
    "plt.plot(error)"
   ]
  },
  {
   "cell_type": "code",
   "execution_count": 23,
   "metadata": {},
   "outputs": [
    {
     "data": {
      "text/plain": [
       "array([[-0.   , -5.278, -7.128, -7.651],\n",
       "       [-5.278, -6.606, -7.181, -7.128],\n",
       "       [-7.128, -7.181, -6.606, -5.278],\n",
       "       [-7.651, -7.128, -5.278,  0.   ]])"
      ]
     },
     "execution_count": 23,
     "metadata": {},
     "output_type": "execute_result"
    }
   ],
   "source": [
    "# точное вычисление функции ценности \n",
    "gamma = 0.9\n",
    "np.round(PolicyEvaluationExact(env, policy, gamma),3).reshape(4,4)"
   ]
  },
  {
   "cell_type": "markdown",
   "metadata": {},
   "source": [
    "Поскольку задача эпизодическая, то можно положить $\\gamma = 1$. Тогда ценности состояний будут означать среднее число шагов из этого состояния до заключительного состояния с обратным знаком. В силу выбранной системы вознаграждений, максимизация дохода предполагает как можно более быстрое движение в заключительные состояния из клеток сеточного мира."
   ]
  },
  {
   "cell_type": "code",
   "execution_count": 25,
   "metadata": {},
   "outputs": [
    {
     "name": "stdout",
     "output_type": "stream",
     "text": [
      "[[  0. -14. -20. -22.]\n",
      " [-14. -18. -20. -20.]\n",
      " [-20. -20. -18. -14.]\n",
      " [-22. -20. -14.   0.]]\n"
     ]
    }
   ],
   "source": [
    "gamma = 1.0\n",
    "policy = np.zeros((env.observation_space.n, env.action_space.n)) + 1/4\n",
    "\n",
    "# итеративное вычисление функции ценности \n",
    "new_value, _ = PolicyEvaluation(env, policy, gamma)\n",
    "print(np.round(new_value).reshape(4,4))"
   ]
  },
  {
   "cell_type": "markdown",
   "metadata": {},
   "source": [
    "Для проверки можно рассмотреть значение во второй строке и первом столбце, равное -14. Запишем уравнение Беллмана для этого значения, слагаемые записаны по порядку действий: влево, вниз, вправо, вверх\n",
    "\n",
    "$$\n",
    "0.25(-1 + (-14)) + 0.25(-1 + (-20)) + 0.25(-1 + (-18)) + 0.25(-1 + 0) = -14\n",
    "$$"
   ]
  },
  {
   "cell_type": "markdown",
   "metadata": {},
   "source": [
    "### Сравнения разных способов организации вычислений\n",
    "\n",
    "Сравним два варианта организации вычислений: с полным обновлением и обновлением in-place.\n",
    "\n",
    "Для этого модифицируем метод PolicyEvaluation(), чтобы он выдавал число итераций для сходимости."
   ]
  },
  {
   "cell_type": "code",
   "execution_count": 56,
   "metadata": {},
   "outputs": [],
   "source": [
    "def PolicyEvaluation(env, policy, gamma, theta=1e-5):\n",
    "    nS = env.observation_space.n # количество различных состояний    \n",
    "    V = np.zeros(nS)             # начальная оценка ценностей состояний\n",
    "    iteration = 0\n",
    "    while True:\n",
    "        delta = 0\n",
    "        # Вычисление новых оценок для всех состояний\n",
    "        for state in range(nS):         \n",
    "            v_s_old = V[state] # запоминаем значение v(s), для его сравнения с обновлённым значением v(s)\n",
    "            v_s = 0 # для вычисления обновлённого значения v(s)        \n",
    "            act_probs = policy[state]\n",
    "            for act, act_prob in enumerate(act_probs):\n",
    "                for next_sr in env.P[state][act]:\n",
    "                    trans_prob, new_state, reward, _ = next_sr\n",
    "                    v_s += act_prob * trans_prob * (reward + gamma * V[new_state])\n",
    "            V[state] = v_s\n",
    "            # найдём разницу между старым и новым значением v(s)\n",
    "            delta = np.max([delta, np.abs(V[state] - v_s_old)])\n",
    "        iteration = iteration + 1\n",
    "        # Критерий завершения итераций\n",
    "        if delta < theta:\n",
    "            break\n",
    "        if iteration > 2000:\n",
    "            print(\"Более 2000 итераций. Стоп.\")\n",
    "            return V\n",
    "        # демонстрация динамики обучения\n",
    "        if iteration == 1 or iteration == 2 or iteration == 5 or iteration == 10 or iteration == 50:\n",
    "            print(\"Итерация: \", iteration)\n",
    "            print(V.reshape(4,4)) \n",
    "    print(\"Число итераций: \", iteration)\n",
    "    return V"
   ]
  },
  {
   "cell_type": "code",
   "execution_count": 58,
   "metadata": {},
   "outputs": [],
   "source": [
    "def PolicyEvaluation_FullUpdate(env, policy, gamma, theta=1e-5):\n",
    "    nS = env.observation_space.n # количество различных состояний    \n",
    "    V = np.zeros(nS)             # начальная оценка ценностей состояний\n",
    "    iteration = 0\n",
    "    while True:\n",
    "        delta = 0\n",
    "        # Вычисление новых оценок для всех состояний\n",
    "        old_V = V.copy() # создаём копию массива\n",
    "        for state in range(nS):         \n",
    "            v_s = 0 # для вычисления обновлённого значения v(s)        \n",
    "            act_probs = policy[state]\n",
    "            for act, act_prob in enumerate(act_probs):\n",
    "                for next_sr in env.P[state][act]:\n",
    "                    trans_prob, new_state, reward, _ = next_sr\n",
    "                    v_s += act_prob * trans_prob * (reward + gamma * old_V[new_state])\n",
    "            V[state] = v_s\n",
    "            # найдём разницу между старым и новым значением v(s)\n",
    "            delta = np.max([delta, np.abs(V[state] - old_V[state])])\n",
    "        iteration = iteration + 1\n",
    "        # Критерий завершения итераций\n",
    "        if delta < theta:\n",
    "            break\n",
    "        if iteration > 2000:\n",
    "            print(\"Более 2000 итераций. Стоп.\")\n",
    "            return V\n",
    "        # демонстрация динамики обучения\n",
    "        if iteration == 1 or iteration == 2 or iteration == 5 or iteration == 10 or iteration == 50:\n",
    "            print(\"Итерация: \", iteration)\n",
    "            print(V.reshape(4,4)) \n",
    "    print(\"Число итераций: \", iteration)\n",
    "    return V"
   ]
  },
  {
   "cell_type": "markdown",
   "metadata": {},
   "source": [
    "Проведём сравнений вычислений."
   ]
  },
  {
   "cell_type": "code",
   "execution_count": 60,
   "metadata": {},
   "outputs": [
    {
     "name": "stdout",
     "output_type": "stream",
     "text": [
      "Итерация:  1\n",
      "[[ 0.        -1.        -1.25      -1.3125   ]\n",
      " [-1.        -1.5       -1.6875    -1.75     ]\n",
      " [-1.25      -1.6875    -1.84375   -1.8984375]\n",
      " [-1.3125    -1.75      -1.8984375  0.       ]]\n",
      "Итерация:  2\n",
      "[[ 0.         -1.9375     -2.546875   -2.73046875]\n",
      " [-1.9375     -2.8125     -3.23828125 -3.40429688]\n",
      " [-2.546875   -3.23828125 -3.56835938 -3.21777344]\n",
      " [-2.73046875 -3.40429688 -3.21777344  0.        ]]\n",
      "Итерация:  5\n",
      "[[ 0.         -4.49046326 -6.30054855 -6.91293049]\n",
      " [-4.49046326 -6.26144409 -7.22480297 -7.36922646]\n",
      " [-6.30054855 -7.22480297 -7.1876235  -5.9268235 ]\n",
      " [-6.91293049 -7.36922646 -5.9268235   0.        ]]\n",
      "Итерация:  10\n",
      "[[  0.          -7.82506756 -11.12181872 -12.22765503]\n",
      " [ -7.82506756 -10.42037166 -11.76933739 -11.86339862]\n",
      " [-11.12181872 -11.76933739 -11.0538181   -8.81387889]\n",
      " [-12.22765503 -11.86339862  -8.81387889   0.        ]]\n",
      "Итерация:  50\n",
      "[[  0.         -13.81370235 -19.73217221 -21.70520586]\n",
      " [-13.81370235 -17.77138835 -19.75178028 -19.75461852]\n",
      " [-19.73217221 -19.75178028 -17.790548   -13.84362056]\n",
      " [-21.70520586 -19.75461852 -13.84362056   0.        ]]\n",
      "Число итераций:  141\n",
      "[[  0. -14. -20. -22.]\n",
      " [-14. -18. -20. -20.]\n",
      " [-20. -20. -18. -14.]\n",
      " [-22. -20. -14.   0.]]\n"
     ]
    }
   ],
   "source": [
    "gamma = 1.0\n",
    "policy = np.zeros((env.observation_space.n, env.action_space.n)) + 1/4\n",
    "\n",
    "new_value = PolicyEvaluation(env, policy, gamma=1.0)\n",
    "print(np.round(new_value).reshape(4,4))"
   ]
  },
  {
   "cell_type": "code",
   "execution_count": 62,
   "metadata": {},
   "outputs": [
    {
     "name": "stdout",
     "output_type": "stream",
     "text": [
      "Итерация:  1\n",
      "[[ 0. -1. -1. -1.]\n",
      " [-1. -1. -1. -1.]\n",
      " [-1. -1. -1. -1.]\n",
      " [-1. -1. -1.  0.]]\n",
      "Итерация:  2\n",
      "[[ 0.   -1.75 -2.   -2.  ]\n",
      " [-1.75 -2.   -2.   -2.  ]\n",
      " [-2.   -2.   -2.   -1.75]\n",
      " [-2.   -2.   -1.75  0.  ]]\n",
      "Итерация:  5\n",
      "[[ 0.        -3.65625   -4.6953125 -4.90625  ]\n",
      " [-3.65625   -4.484375  -4.78125   -4.6953125]\n",
      " [-4.6953125 -4.78125   -4.484375  -3.65625  ]\n",
      " [-4.90625   -4.6953125 -3.65625    0.       ]]\n",
      "Итерация:  10\n",
      "[[ 0.         -6.13796997 -8.35235596 -8.96731567]\n",
      " [-6.13796997 -7.73739624 -8.42782593 -8.35235596]\n",
      " [-8.35235596 -8.42782593 -7.73739624 -6.13796997]\n",
      " [-8.96731567 -8.35235596 -6.13796997  0.        ]]\n",
      "Итерация:  50\n",
      "[[  0.         -13.11718187 -18.6918225  -20.53607201]\n",
      " [-13.11718187 -16.84757299 -18.70057333 -18.6918225 ]\n",
      " [-18.6918225  -18.70057333 -16.84757299 -13.11718187]\n",
      " [-20.53607201 -18.6918225  -13.11718187   0.        ]]\n",
      "Число итераций:  215\n",
      "[[  0. -14. -20. -22.]\n",
      " [-14. -18. -20. -20.]\n",
      " [-20. -20. -18. -14.]\n",
      " [-22. -20. -14.   0.]]\n"
     ]
    }
   ],
   "source": [
    "new_value = PolicyEvaluation_FullUpdate(env, policy, gamma=1.0)\n",
    "print(np.round(new_value).reshape(4,4))"
   ]
  },
  {
   "cell_type": "markdown",
   "metadata": {},
   "source": [
    "Как ясно из полученных результатов, при вычислениях in-place число итераций для сходимости требуется заметно меньше. "
   ]
  },
  {
   "cell_type": "markdown",
   "metadata": {},
   "source": [
    "### Итоговый код для метода оценки стратегии\n",
    "\n",
    "Приведём итоговый код для оценки стратегии, вычисляющий функцию ценности состояний при фиксированной стратегии."
   ]
  },
  {
   "cell_type": "code",
   "execution_count": 65,
   "metadata": {},
   "outputs": [],
   "source": [
    "def PolicyEvaluation(env, policy, gamma, theta=1e-5):\n",
    "    nS = env.observation_space.n # количество различных состояний    \n",
    "    V = np.zeros(nS)             # начальная оценка ценностей состояний\n",
    "    iteration = 0\n",
    "    while True:\n",
    "        delta = 0\n",
    "        # Вычисление новых оценок для всех состояний\n",
    "        for state in range(nS):         \n",
    "            v_s_old = V[state] # запоминаем значение v(s), для его сравнения с обновлённым значением v(s)\n",
    "            v_s = 0 # для вычисления обновлённого значения v(s)        \n",
    "            act_probs = policy[state]\n",
    "            for act, act_prob in enumerate(act_probs):\n",
    "                for next_sr in env.P[state][act]:\n",
    "                    trans_prob, new_state, reward, _ = next_sr\n",
    "                    v_s += act_prob * trans_prob * (reward + gamma * V[new_state])\n",
    "            V[state] = v_s\n",
    "            # найдём разницу между старым и новым значением v(s)\n",
    "            delta = np.max([delta, np.abs(V[state] - v_s_old)])\n",
    "        iteration = iteration + 1\n",
    "        # Критерий завершения итераций\n",
    "        if delta < theta:\n",
    "            break\n",
    "        if iteration > 2000:\n",
    "            print(\"Более 2000 итераций. Стоп.\")\n",
    "            return V\n",
    "    print(\"Число итераций: \", iteration)\n",
    "    return V"
   ]
  },
  {
   "cell_type": "code",
   "execution_count": 67,
   "metadata": {},
   "outputs": [
    {
     "name": "stdout",
     "output_type": "stream",
     "text": [
      "Число итераций:  141\n"
     ]
    }
   ],
   "source": [
    "gamma = 1.0\n",
    "policy = np.zeros((env.observation_space.n, env.action_space.n)) + 1/4\n",
    "\n",
    "\n",
    "# итеративное вычисление функции ценности \n",
    "V = PolicyEvaluation(env, policy, gamma)"
   ]
  },
  {
   "cell_type": "code",
   "execution_count": 69,
   "metadata": {},
   "outputs": [
    {
     "name": "stdout",
     "output_type": "stream",
     "text": [
      "[[  0. -14. -20. -22.]\n",
      " [-14. -18. -20. -20.]\n",
      " [-20. -20. -18. -14.]\n",
      " [-22. -20. -14.   0.]]\n"
     ]
    }
   ],
   "source": [
    "print(np.round(V).reshape(4,4))"
   ]
  },
  {
   "attachments": {
    "frozen.png": {
     "image/png": "[encoded data removed]"
    }
   },
   "cell_type": "markdown",
   "metadata": {},
   "source": [
    "### Пример 2\n",
    "\n",
    "Рассмотрим задачу из библиотеки `gymnasium` о замерзшем озере \"FrozenLake-v1\". Средой является поле из 16 состояний, как в задаче выше, но разные клетки имеют разное значение. Вид поля:\n",
    "\n",
    "![frozen.png](attachment:frozen.png)\n",
    "\n",
    "Здесь:\n",
    "\n",
    "    S (start) начало\n",
    "    F (frozen) участок со льдом, где можно идти\n",
    "    H (hole) полынья, надо избегать\n",
    "    G (goal) цель.\n",
    "    \n",
    "Действия - это перемещения по полю в 4 направления: \n",
    "\n",
    "    0: влево\n",
    "    1: вниз\n",
    "    2: вправо\n",
    "    3: вверх\n",
    "    \n",
    "Из-за скольского льда есть вероятность перехода не в том направлении. Например, при действии \"вниз\" с вероятностью 1/3 агент переместится либо вниз, либо влево, либо вправо (причём если перемещение за край поля, то агент останется на месте). \n",
    "\n",
    "Цель: добраться из клетки S до клетки G. Вознаграждение за успешное завершение эпизода +1. За все прочие действия 0.\n",
    "\n",
    "Эпизод завершается при успешном завершении, при попадании на клетку $H$, либо по истечении 100 временных шагов."
   ]
  },
  {
   "cell_type": "code",
   "execution_count": 71,
   "metadata": {
    "scrolled": true
   },
   "outputs": [
    {
     "data": {
      "text/plain": [
       "{0: {0: [(0.3333333333333333, 0, 0.0, False),\n",
       "   (0.3333333333333333, 0, 0.0, False),\n",
       "   (0.3333333333333333, 4, 0.0, False)],\n",
       "  1: [(0.3333333333333333, 0, 0.0, False),\n",
       "   (0.3333333333333333, 4, 0.0, False),\n",
       "   (0.3333333333333333, 1, 0.0, False)],\n",
       "  2: [(0.3333333333333333, 4, 0.0, False),\n",
       "   (0.3333333333333333, 1, 0.0, False),\n",
       "   (0.3333333333333333, 0, 0.0, False)],\n",
       "  3: [(0.3333333333333333, 1, 0.0, False),\n",
       "   (0.3333333333333333, 0, 0.0, False),\n",
       "   (0.3333333333333333, 0, 0.0, False)]},\n",
       " 1: {0: [(0.3333333333333333, 1, 0.0, False),\n",
       "   (0.3333333333333333, 0, 0.0, False),\n",
       "   (0.3333333333333333, 5, 0.0, True)],\n",
       "  1: [(0.3333333333333333, 0, 0.0, False),\n",
       "   (0.3333333333333333, 5, 0.0, True),\n",
       "   (0.3333333333333333, 2, 0.0, False)],\n",
       "  2: [(0.3333333333333333, 5, 0.0, True),\n",
       "   (0.3333333333333333, 2, 0.0, False),\n",
       "   (0.3333333333333333, 1, 0.0, False)],\n",
       "  3: [(0.3333333333333333, 2, 0.0, False),\n",
       "   (0.3333333333333333, 1, 0.0, False),\n",
       "   (0.3333333333333333, 0, 0.0, False)]},\n",
       " 2: {0: [(0.3333333333333333, 2, 0.0, False),\n",
       "   (0.3333333333333333, 1, 0.0, False),\n",
       "   (0.3333333333333333, 6, 0.0, False)],\n",
       "  1: [(0.3333333333333333, 1, 0.0, False),\n",
       "   (0.3333333333333333, 6, 0.0, False),\n",
       "   (0.3333333333333333, 3, 0.0, False)],\n",
       "  2: [(0.3333333333333333, 6, 0.0, False),\n",
       "   (0.3333333333333333, 3, 0.0, False),\n",
       "   (0.3333333333333333, 2, 0.0, False)],\n",
       "  3: [(0.3333333333333333, 3, 0.0, False),\n",
       "   (0.3333333333333333, 2, 0.0, False),\n",
       "   (0.3333333333333333, 1, 0.0, False)]},\n",
       " 3: {0: [(0.3333333333333333, 3, 0.0, False),\n",
       "   (0.3333333333333333, 2, 0.0, False),\n",
       "   (0.3333333333333333, 7, 0.0, True)],\n",
       "  1: [(0.3333333333333333, 2, 0.0, False),\n",
       "   (0.3333333333333333, 7, 0.0, True),\n",
       "   (0.3333333333333333, 3, 0.0, False)],\n",
       "  2: [(0.3333333333333333, 7, 0.0, True),\n",
       "   (0.3333333333333333, 3, 0.0, False),\n",
       "   (0.3333333333333333, 3, 0.0, False)],\n",
       "  3: [(0.3333333333333333, 3, 0.0, False),\n",
       "   (0.3333333333333333, 3, 0.0, False),\n",
       "   (0.3333333333333333, 2, 0.0, False)]},\n",
       " 4: {0: [(0.3333333333333333, 0, 0.0, False),\n",
       "   (0.3333333333333333, 4, 0.0, False),\n",
       "   (0.3333333333333333, 8, 0.0, False)],\n",
       "  1: [(0.3333333333333333, 4, 0.0, False),\n",
       "   (0.3333333333333333, 8, 0.0, False),\n",
       "   (0.3333333333333333, 5, 0.0, True)],\n",
       "  2: [(0.3333333333333333, 8, 0.0, False),\n",
       "   (0.3333333333333333, 5, 0.0, True),\n",
       "   (0.3333333333333333, 0, 0.0, False)],\n",
       "  3: [(0.3333333333333333, 5, 0.0, True),\n",
       "   (0.3333333333333333, 0, 0.0, False),\n",
       "   (0.3333333333333333, 4, 0.0, False)]},\n",
       " 5: {0: [(1.0, 5, 0, True)],\n",
       "  1: [(1.0, 5, 0, True)],\n",
       "  2: [(1.0, 5, 0, True)],\n",
       "  3: [(1.0, 5, 0, True)]},\n",
       " 6: {0: [(0.3333333333333333, 2, 0.0, False),\n",
       "   (0.3333333333333333, 5, 0.0, True),\n",
       "   (0.3333333333333333, 10, 0.0, False)],\n",
       "  1: [(0.3333333333333333, 5, 0.0, True),\n",
       "   (0.3333333333333333, 10, 0.0, False),\n",
       "   (0.3333333333333333, 7, 0.0, True)],\n",
       "  2: [(0.3333333333333333, 10, 0.0, False),\n",
       "   (0.3333333333333333, 7, 0.0, True),\n",
       "   (0.3333333333333333, 2, 0.0, False)],\n",
       "  3: [(0.3333333333333333, 7, 0.0, True),\n",
       "   (0.3333333333333333, 2, 0.0, False),\n",
       "   (0.3333333333333333, 5, 0.0, True)]},\n",
       " 7: {0: [(1.0, 7, 0, True)],\n",
       "  1: [(1.0, 7, 0, True)],\n",
       "  2: [(1.0, 7, 0, True)],\n",
       "  3: [(1.0, 7, 0, True)]},\n",
       " 8: {0: [(0.3333333333333333, 4, 0.0, False),\n",
       "   (0.3333333333333333, 8, 0.0, False),\n",
       "   (0.3333333333333333, 12, 0.0, True)],\n",
       "  1: [(0.3333333333333333, 8, 0.0, False),\n",
       "   (0.3333333333333333, 12, 0.0, True),\n",
       "   (0.3333333333333333, 9, 0.0, False)],\n",
       "  2: [(0.3333333333333333, 12, 0.0, True),\n",
       "   (0.3333333333333333, 9, 0.0, False),\n",
       "   (0.3333333333333333, 4, 0.0, False)],\n",
       "  3: [(0.3333333333333333, 9, 0.0, False),\n",
       "   (0.3333333333333333, 4, 0.0, False),\n",
       "   (0.3333333333333333, 8, 0.0, False)]},\n",
       " 9: {0: [(0.3333333333333333, 5, 0.0, True),\n",
       "   (0.3333333333333333, 8, 0.0, False),\n",
       "   (0.3333333333333333, 13, 0.0, False)],\n",
       "  1: [(0.3333333333333333, 8, 0.0, False),\n",
       "   (0.3333333333333333, 13, 0.0, False),\n",
       "   (0.3333333333333333, 10, 0.0, False)],\n",
       "  2: [(0.3333333333333333, 13, 0.0, False),\n",
       "   (0.3333333333333333, 10, 0.0, False),\n",
       "   (0.3333333333333333, 5, 0.0, True)],\n",
       "  3: [(0.3333333333333333, 10, 0.0, False),\n",
       "   (0.3333333333333333, 5, 0.0, True),\n",
       "   (0.3333333333333333, 8, 0.0, False)]},\n",
       " 10: {0: [(0.3333333333333333, 6, 0.0, False),\n",
       "   (0.3333333333333333, 9, 0.0, False),\n",
       "   (0.3333333333333333, 14, 0.0, False)],\n",
       "  1: [(0.3333333333333333, 9, 0.0, False),\n",
       "   (0.3333333333333333, 14, 0.0, False),\n",
       "   (0.3333333333333333, 11, 0.0, True)],\n",
       "  2: [(0.3333333333333333, 14, 0.0, False),\n",
       "   (0.3333333333333333, 11, 0.0, True),\n",
       "   (0.3333333333333333, 6, 0.0, False)],\n",
       "  3: [(0.3333333333333333, 11, 0.0, True),\n",
       "   (0.3333333333333333, 6, 0.0, False),\n",
       "   (0.3333333333333333, 9, 0.0, False)]},\n",
       " 11: {0: [(1.0, 11, 0, True)],\n",
       "  1: [(1.0, 11, 0, True)],\n",
       "  2: [(1.0, 11, 0, True)],\n",
       "  3: [(1.0, 11, 0, True)]},\n",
       " 12: {0: [(1.0, 12, 0, True)],\n",
       "  1: [(1.0, 12, 0, True)],\n",
       "  2: [(1.0, 12, 0, True)],\n",
       "  3: [(1.0, 12, 0, True)]},\n",
       " 13: {0: [(0.3333333333333333, 9, 0.0, False),\n",
       "   (0.3333333333333333, 12, 0.0, True),\n",
       "   (0.3333333333333333, 13, 0.0, False)],\n",
       "  1: [(0.3333333333333333, 12, 0.0, True),\n",
       "   (0.3333333333333333, 13, 0.0, False),\n",
       "   (0.3333333333333333, 14, 0.0, False)],\n",
       "  2: [(0.3333333333333333, 13, 0.0, False),\n",
       "   (0.3333333333333333, 14, 0.0, False),\n",
       "   (0.3333333333333333, 9, 0.0, False)],\n",
       "  3: [(0.3333333333333333, 14, 0.0, False),\n",
       "   (0.3333333333333333, 9, 0.0, False),\n",
       "   (0.3333333333333333, 12, 0.0, True)]},\n",
       " 14: {0: [(0.3333333333333333, 10, 0.0, False),\n",
       "   (0.3333333333333333, 13, 0.0, False),\n",
       "   (0.3333333333333333, 14, 0.0, False)],\n",
       "  1: [(0.3333333333333333, 13, 0.0, False),\n",
       "   (0.3333333333333333, 14, 0.0, False),\n",
       "   (0.3333333333333333, 15, 1.0, True)],\n",
       "  2: [(0.3333333333333333, 14, 0.0, False),\n",
       "   (0.3333333333333333, 15, 1.0, True),\n",
       "   (0.3333333333333333, 10, 0.0, False)],\n",
       "  3: [(0.3333333333333333, 15, 1.0, True),\n",
       "   (0.3333333333333333, 10, 0.0, False),\n",
       "   (0.3333333333333333, 13, 0.0, False)]},\n",
       " 15: {0: [(1.0, 15, 0, True)],\n",
       "  1: [(1.0, 15, 0, True)],\n",
       "  2: [(1.0, 15, 0, True)],\n",
       "  3: [(1.0, 15, 0, True)]}}"
      ]
     },
     "execution_count": 71,
     "metadata": {},
     "output_type": "execute_result"
    }
   ],
   "source": [
    "import gymnasium as gym\n",
    "import numpy as np\n",
    "\n",
    "#создание экземпляра среды, обёртка unwrapped для доступа к матрице переходов env.P\n",
    "env = gym.make(\"FrozenLake-v1\").unwrapped \n",
    "env.reset() # инициализация среды\n",
    "# вывод динамики переходов\n",
    "env.P"
   ]
  },
  {
   "cell_type": "code",
   "execution_count": 73,
   "metadata": {},
   "outputs": [
    {
     "data": {
      "text/plain": [
       "(0, 0.0, False, False, {'prob': 0.3333333333333333})"
      ]
     },
     "execution_count": 73,
     "metadata": {},
     "output_type": "execute_result"
    }
   ],
   "source": [
    "env.step(0)"
   ]
  },
  {
   "cell_type": "markdown",
   "metadata": {},
   "source": [
    "Например, ниже выведены вероятности перехода из состояния 1 и действия 1:"
   ]
  },
  {
   "cell_type": "code",
   "execution_count": 75,
   "metadata": {},
   "outputs": [
    {
     "data": {
      "text/plain": [
       "[(0.3333333333333333, 0, 0.0, False),\n",
       " (0.3333333333333333, 5, 0.0, True),\n",
       " (0.3333333333333333, 2, 0.0, False)]"
      ]
     },
     "execution_count": 75,
     "metadata": {},
     "output_type": "execute_result"
    }
   ],
   "source": [
    "env.P[1][1]"
   ]
  },
  {
   "cell_type": "markdown",
   "metadata": {},
   "source": [
    "Продемонстрируем взаимодействие агента со средой (появляется в отдельном окошке, если `render_mode='human'`)"
   ]
  },
  {
   "cell_type": "code",
   "execution_count": 86,
   "metadata": {},
   "outputs": [],
   "source": [
    "import time\n",
    "\n",
    "env = gym.make(\"FrozenLake-v1\", render_mode='human')\n",
    "env.reset()\n",
    "\n",
    "while True:\n",
    "    time.sleep(.2)\n",
    "    state, reward, terminated, truncated, _ = env.step(env.action_space.sample()) # выбрать действие случайно\n",
    "    if terminated or truncated:\n",
    "        break\n",
    "    \n",
    "env.close()"
   ]
  },
  {
   "cell_type": "markdown",
   "metadata": {},
   "source": [
    "Для упрощённого способа демонстрации взаимодействия агента со средой можно использовать следующий код (для этого надо поставить параметр render_mode='ansi')."
   ]
  },
  {
   "cell_type": "code",
   "execution_count": 77,
   "metadata": {},
   "outputs": [
    {
     "name": "stdout",
     "output_type": "stream",
     "text": [
      "  (Left)\n",
      "SFFF\n",
      "FHFH\n",
      "FFFH\n",
      "\u001b[41mH\u001b[0mFFG\n",
      "\n"
     ]
    }
   ],
   "source": [
    "import time\n",
    "from IPython.display import clear_output\n",
    "\n",
    "env = gym.make(\"FrozenLake-v1\", render_mode='ansi')\n",
    "env.reset()\n",
    "print(env.render())\n",
    "\n",
    "while True:    \n",
    "    state, reward, terminated, truncated, _ = env.step(env.action_space.sample()) # выбрать действие случайно\n",
    "    \n",
    "    time.sleep(.2)\n",
    "    clear_output(wait=True)      \n",
    "    print(env.render())\n",
    "    \n",
    "    if terminated or truncated:\n",
    "        break\n",
    "    \n",
    "env.close()"
   ]
  },
  {
   "cell_type": "markdown",
   "metadata": {},
   "source": [
    "Найдём функцию ценности состояний для стратегии с равновероятным выбором действий"
   ]
  },
  {
   "cell_type": "code",
   "execution_count": 79,
   "metadata": {},
   "outputs": [
    {
     "name": "stdout",
     "output_type": "stream",
     "text": [
      "Число итераций:  31\n",
      "[[0.013911   0.01161424 0.02094062 0.01046758]\n",
      " [0.01623478 0.         0.04074774 0.        ]\n",
      " [0.03479961 0.08816698 0.14205099 0.        ]\n",
      " [0.         0.17581855 0.4392897  0.        ]]\n"
     ]
    }
   ],
   "source": [
    "env = gym.make(\"FrozenLake-v1\", render_mode='ansi').unwrapped \n",
    "# стратегия равновероятного выбора\n",
    "gamma = 1.0\n",
    "# число состояний и действий\n",
    "nS = env.observation_space.n\n",
    "nA = env.action_space.n\n",
    "\n",
    "policy = np.zeros([nS, nA]) + 1/4\n",
    "V = PolicyEvaluation(env, policy, gamma)\n",
    "print(V.reshape(4,4))"
   ]
  },
  {
   "cell_type": "markdown",
   "metadata": {},
   "source": [
    "Проведём симуляцию на большом числе эпизодов и найдём число успешных завершений среды при случайной стратегии."
   ]
  },
  {
   "cell_type": "code",
   "execution_count": 81,
   "metadata": {},
   "outputs": [
    {
     "name": "stdout",
     "output_type": "stream",
     "text": [
      "Число успешных завершений эпизода:  153.0\n"
     ]
    }
   ],
   "source": [
    "n_episodes = 10000\n",
    "env = gym.make(\"FrozenLake-v1\", render_mode='ansi')\n",
    "env = gym.wrappers.RecordEpisodeStatistics(env, buffer_length=n_episodes)\n",
    "\n",
    "def play(env, n_episodes):\n",
    "    for episode in range(n_episodes):\n",
    "        state, _ = env.reset()\n",
    "        while True:\n",
    "            # равновероятно выбираем действия\n",
    "            action = env.action_space.sample()\n",
    "            state, reward, terminated, truncated, _ = env.step(action)\n",
    "            if terminated or truncated:\n",
    "                break\n",
    "            \n",
    "play(env, n_episodes)\n",
    "print(\"Число успешных завершений эпизода: \", sum(env.return_queue))"
   ]
  },
  {
   "cell_type": "code",
   "execution_count": null,
   "metadata": {},
   "outputs": [],
   "source": []
  }
 ],
 "metadata": {
  "colab": {
   "authorship_tag": "ABX9TyMDnfQdfW/8Vf/y6aqJb9pK",
   "name": "2.1 RL_DP_netWorld.ipynb",
   "provenance": []
  },
  "kernelspec": {
   "display_name": "Python [conda env:base] *",
   "language": "python",
   "name": "conda-base-py"
  },
  "language_info": {
   "codemirror_mode": {
    "name": "ipython",
    "version": 3
   },
   "file_extension": ".py",
   "mimetype": "text/x-python",
   "name": "python",
   "nbconvert_exporter": "python",
   "pygments_lexer": "ipython3",
   "version": "3.12.7"
  }
 },
 "nbformat": 4,
 "nbformat_minor": 4
}
