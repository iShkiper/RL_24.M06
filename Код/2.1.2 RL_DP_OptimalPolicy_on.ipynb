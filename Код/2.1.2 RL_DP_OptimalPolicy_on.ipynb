{
 "cells": [
  {
   "cell_type": "markdown",
   "metadata": {},
   "source": [
    "# Методы ДП для поиска оптимальной стратегии"
   ]
  },
  {
   "cell_type": "markdown",
   "metadata": {},
   "source": [
    "Рассмотрим на практике работу методов ДП для поиска оптимальной стратегии, которые обсуждались в лекциях."
   ]
  },
  {
   "cell_type": "markdown",
   "metadata": {},
   "source": [
    "### Алгоритм итерации по стратегиям\n",
    "\n",
    "Реализуем метод итерации по стратегиям для поиска оптимальной стратегии. \n",
    "Этот метод представляет собой итерацию следующих двух шагов:\n",
    "\n",
    "1. оценка стратегии, путём вычисления её функции ценности состояний $v_{\\pi}(s)$,\n",
    "2. улучшение стратегии.\n",
    "\n",
    "Шаг оценки стратегии у нас уже реализован в коде, это метод `PolicyEvaluation()`. Сделаем лишь одну модификацию кода этого метода, которая позволит устанавливать начальную оценку функции ценности состояний $v_{\\pi}(s)$ вручную. Это удобно с той точки зрения, что для обновлённой стратегии начальную оценку функции ценности состояний можно инициализировать по найденной оценке этой фукнции для старой стратегии. Это ускоряет сходимость.\n",
    "\n",
    "Далее, приведём код для шага улучшения стратегии `PolicyImprovement()`. И напишем метод `IterationByPolicy()`, реализующий алгортим итерации по стратегиям.\n",
    "\n",
    "Также для удобства, напишем метод `GetOptimalActionsByPolicy()` для получения индексов оптимальных действий из найденной стратегии."
   ]
  },
  {
   "cell_type": "code",
   "execution_count": 9,
   "metadata": {},
   "outputs": [],
   "source": [
    "# Оценка стратегии (в параметрах можно передать V, то есть фукнцию ценности старой стратегии)\n",
    "def PolicyEvaluation(env, policy, V, gamma, theta=1e-4):\n",
    "    nS = env.observation_space.n # количество различных состояний    \n",
    "    iteration = 0\n",
    "    while True:\n",
    "        delta = 0\n",
    "        # Вычисление новых оценок для всех состояний\n",
    "        for state in range(nS):         \n",
    "            v_s_old = V[state] # запоминаем значение v(s), для его сравнения с обновлённым значением v(s)\n",
    "            v_s = 0 # для обновлённого значения v(s)         \n",
    "            act_probs = policy[state]\n",
    "            for act, act_prob in enumerate(act_probs):\n",
    "                for next_sr in env.P[state][act]:\n",
    "                    trans_prob, new_state, reward, _ = next_sr\n",
    "                    v_s += act_prob * trans_prob * (reward + gamma * V[new_state])\n",
    "            V[state] = v_s\n",
    "            # найдём разницу между старым и новым значением v(s)\n",
    "            delta = np.max([delta, np.abs(V[state] - v_s_old)])\n",
    "        iteration = iteration + 1\n",
    "        # Критерий завершения итераций\n",
    "        if delta < theta:\n",
    "            break\n",
    "        if iteration > 2000:\n",
    "            print(\"Более 2000 итераций. Стоп.\")\n",
    "            return V\n",
    "    print(\"Число итераций: \", iteration)\n",
    "    return V\n",
    "\n",
    "# Улучшение стратегии\n",
    "def PolicyImprovement(env, oldPolicy, V, gamma):\n",
    "    nS = env.observation_space.n\n",
    "    nA = env.action_space.n\n",
    "    # пустой список из нулей для формирования обновлённой стратегии\n",
    "    newPolicy = np.zeros((nS,nA))\n",
    "    policy_changed = False\n",
    "    for state in range(nS):\n",
    "        q_s = [] # массив для значений q(s,a)\n",
    "        for act in range(nA):\n",
    "            q_s_a = 0 # для вычисления q(s,a)\n",
    "            for next_sr in env.P[state][act]:\n",
    "                trans_prob, new_state, reward, _ = next_sr\n",
    "                q_s_a += trans_prob * (reward + gamma * V[new_state])\n",
    "            q_s.append(q_s_a)\n",
    "        # ищем максимальные значения, формируем новую стратегию\n",
    "        mask = q_s == np.max(q_s)\n",
    "        newPolicy[state] = mask/np.sum(mask)\n",
    "    \n",
    "        # np.allclose сравнение числовых массивов с точностью до некоторого допуска\n",
    "        if not np.allclose(newPolicy[state], oldPolicy[state]):\n",
    "            policy_changed = True # флаг о том, что стратегия изменилась\n",
    "    return newPolicy, policy_changed\n",
    "\n",
    "\n",
    "def IterationByPolicy(env, gamma = 0.9, theta = 1e-4):\n",
    "    nS = env.observation_space.n\n",
    "    nA = env.action_space.n \n",
    "    # инициализация стратегией равновероятного выбора действий\n",
    "    policy = np.ones([nS, nA]) / nA\n",
    "    V = np.zeros(nS)\n",
    "    iteration = 0\n",
    "    while True:\n",
    "        # шаг оценки\n",
    "        V = PolicyEvaluation(env, policy, V, gamma, theta)\n",
    "        # шаг улучшения\n",
    "        policy, changed = PolicyImprovement(env, policy, V, gamma)\n",
    "\n",
    "        iteration = iteration + 1\n",
    "        if not changed: #завершить, если нет изменений в стратегии\n",
    "            break\n",
    "        if iteration > 1000:\n",
    "            print(\"Больше 1000 итераций. Стоп.\")\n",
    "            break\n",
    "            \n",
    "    print(\"Число шагов улучшения стратегии: \", iteration)\n",
    "    optPolicy = policy\n",
    "    V_optimal = PolicyEvaluation(env, optPolicy, V, gamma, theta)\n",
    "    return optPolicy, V_optimal\n",
    "\n",
    "\n",
    "# Получение оптимальных действий по оптимальной функции ценности состояний\n",
    "def GetOptimalActionsByPolicy(optPolicy):\n",
    "    nS = len(optPolicy)\n",
    "    # пустой список из нулей для записи оптимальных действий\n",
    "    bestActs = [0]*nS\n",
    "    for state in range(nS):\n",
    "        bestActs[state] = np.argwhere(optPolicy[state] == np.max(optPolicy[state])).flatten().tolist()\n",
    "    return bestActs"
   ]
  },
  {
   "cell_type": "markdown",
   "metadata": {},
   "source": [
    "### Алгоритм итерации по ценности\n",
    "\n",
    "Реализуем метод итерации по ценности для поиска оптимальной стратегии. Напомним, что для этого используется уравнение оптимальности Беллмана и итерационный метод для решения этого уравнения.\n",
    "\n",
    "$V_{k+1}(s) = \\max\\limits_a \\sum\\limits_{r\\in {\\mathcal R}} \\sum\\limits_{s'\\in {\\mathcal S}} p(s',r|s,a) (r + \\gamma V_k(s'))$\n",
    "\n",
    "Когда оптимальные значения ценностей $V^*$ найдены, то для определения оптимальной стратегии надо в каждом состоянии выбрать действия, приносящий максимальный доход, а именно:\n",
    "\n",
    "\n",
    "$\\pi^*(s) = \\underset{a}{\\mathrm{argmin}} \\sum\\limits_{r\\in {\\mathcal R}} \\sum\\limits_{s'\\in {\\mathcal S}} p(s',r|s,a) (r + \\gamma V_k(s'))$"
   ]
  },
  {
   "cell_type": "markdown",
   "metadata": {},
   "source": [
    "### Задача: реализовать алгоритм итерации по ценности"
   ]
  },
  {
   "cell_type": "code",
   "execution_count": 11,
   "metadata": {},
   "outputs": [],
   "source": [
    "def IterationByValues(env, gamma, theta = 1e-4):\n",
    "    nS = env.observation_space.n\n",
    "    nA = env.action_space.n \n",
    "    V = np.zeros(nS)\n",
    "    iteration = 0\n",
    "    while True:\n",
    "        \n",
    "        ???\n",
    "        ???\n",
    "        ???\n",
    "        \n",
    "        if iteration > 2000:\n",
    "            print(\"Больше 2000 итераций. Стоп.\")\n",
    "            return V\n",
    "    print(\"Число итераций: \", iteration)\n",
    "    return V\n",
    "\n",
    "\n",
    "# Получение оптимальной стратегии по оптимальной функции ценности состояний\n",
    "def GetOptimalPolicyByV(env, OptValues, gamma):\n",
    "    nS = env.observation_space.n\n",
    "    nA = env.action_space.n \n",
    "    # пустой список из нулей для записи оптимальных действий\n",
    "    optPolicy = np.zeros((nS,nA))\n",
    "\n",
    "        ???\n",
    "        ???\n",
    "        ???\n",
    "\n",
    "    return optPolicy"
   ]
  },
  {
   "cell_type": "markdown",
   "metadata": {
    "id": "2obRQEcUCYg2"
   },
   "source": [
    "### Пример 1\n",
    "\n",
    "Рассмотрим задачу о сеточном мире размера 4 на 4 клетки из книги Р. Саттона и Э. Барто \"Обучение с подкреплением\" и найдём оптимальную стратегию действий."
   ]
  },
  {
   "cell_type": "code",
   "execution_count": 5,
   "metadata": {},
   "outputs": [],
   "source": [
    "import numpy as np\n",
    "import matplotlib.pyplot as plt\n",
    "import gymnasium as gym\n",
    "# подгрузка среды\n",
    "from custom.env.gridworld import GridWorld4by4"
   ]
  },
  {
   "cell_type": "code",
   "execution_count": 7,
   "metadata": {},
   "outputs": [
    {
     "name": "stdout",
     "output_type": "stream",
     "text": [
      "Число итераций:  141\n",
      "Число итераций:  3\n",
      "Число итераций:  1\n",
      "Число шагов улучшения стратегии:  3\n",
      "Число итераций:  1\n",
      "Оптимальная стратегия: \n",
      " [[0.25 0.25 0.25 0.25]\n",
      " [1.   0.   0.   0.  ]\n",
      " [1.   0.   0.   0.  ]\n",
      " [0.5  0.5  0.   0.  ]\n",
      " [0.   0.   0.   1.  ]\n",
      " [0.5  0.   0.   0.5 ]\n",
      " [0.25 0.25 0.25 0.25]\n",
      " [0.   1.   0.   0.  ]\n",
      " [0.   0.   0.   1.  ]\n",
      " [0.25 0.25 0.25 0.25]\n",
      " [0.   0.5  0.5  0.  ]\n",
      " [0.   1.   0.   0.  ]\n",
      " [0.   0.   0.5  0.5 ]\n",
      " [0.   0.   1.   0.  ]\n",
      " [0.   0.   1.   0.  ]\n",
      " [0.25 0.25 0.25 0.25]]\n"
     ]
    }
   ],
   "source": [
    "gamma = 1.0\n",
    "env = GridWorld4by4()\n",
    "optPolicy, optVal = IterationByPolicy(env, gamma, theta=1e-5)\n",
    "np.round(optVal,3).reshape(4,4)\n",
    "print(\"Оптимальная стратегия: \\n\",optPolicy)"
   ]
  },
  {
   "cell_type": "code",
   "execution_count": 9,
   "metadata": {},
   "outputs": [
    {
     "data": {
      "text/plain": [
       "array([[ 0., -1., -2., -3.],\n",
       "       [-1., -2., -3., -2.],\n",
       "       [-2., -3., -2., -1.],\n",
       "       [-3., -2., -1.,  0.]])"
      ]
     },
     "execution_count": 9,
     "metadata": {},
     "output_type": "execute_result"
    }
   ],
   "source": [
    "# оптимальные ценности действий\n",
    "optVal.reshape(4,4)"
   ]
  },
  {
   "cell_type": "markdown",
   "metadata": {},
   "source": [
    "Как было отмечено ранее, выбранная система вознаграждений ведёт к тому, что максимизация дохода в данной задаче предполагает как можно более быстрое движение в заключительные состояния из клеток сеточного мира. А ценности состояний будут означать среднее число шагов из этого состояния до заключительного состояния с обратным знаком при выбранной стратегии. По ответу ясно, что оптимальные значения найдены.\n",
    "\n",
    "Выведем также оптимальные действия в каждом состоянии:"
   ]
  },
  {
   "cell_type": "code",
   "execution_count": 11,
   "metadata": {},
   "outputs": [
    {
     "data": {
      "text/plain": [
       "[[[0, 1, 2, 3], [0], [0], [0, 1]],\n",
       " [[3], [0, 3], [0, 1, 2, 3], [1]],\n",
       " [[3], [0, 1, 2, 3], [1, 2], [1]],\n",
       " [[2, 3], [2], [2], [0, 1, 2, 3]]]"
      ]
     },
     "execution_count": 11,
     "metadata": {},
     "output_type": "execute_result"
    }
   ],
   "source": [
    "optActs = GetOptimalActionsByPolicy(optPolicy)\n",
    "optActs = [optActs[x:x+4] for x in range(0, 16, 4)] \n",
    "optActs"
   ]
  },
  {
   "cell_type": "markdown",
   "metadata": {},
   "source": [
    "Далее, найдём оптимальные значения методом итерации по ценности. Результат одинаковый, но в данном случае сходимости гораздо более быстрая."
   ]
  },
  {
   "cell_type": "code",
   "execution_count": 13,
   "metadata": {},
   "outputs": [
    {
     "name": "stdout",
     "output_type": "stream",
     "text": [
      "Число итераций:  4\n"
     ]
    },
    {
     "data": {
      "text/plain": [
       "array([[ 0., -1., -2., -3.],\n",
       "       [-1., -2., -3., -2.],\n",
       "       [-2., -3., -2., -1.],\n",
       "       [-3., -2., -1.,  0.]])"
      ]
     },
     "execution_count": 13,
     "metadata": {},
     "output_type": "execute_result"
    }
   ],
   "source": [
    "gamma = 1.0\n",
    "optVal=IterationByValues(env, gamma, theta=1e-6)\n",
    "np.round(optVal,3).reshape(4,4)"
   ]
  },
  {
   "cell_type": "code",
   "execution_count": 15,
   "metadata": {},
   "outputs": [
    {
     "name": "stdout",
     "output_type": "stream",
     "text": [
      "Оптимальная стратегия: \n",
      " [[0.25 0.25 0.25 0.25]\n",
      " [1.   0.   0.   0.  ]\n",
      " [1.   0.   0.   0.  ]\n",
      " [0.5  0.5  0.   0.  ]\n",
      " [0.   0.   0.   1.  ]\n",
      " [0.5  0.   0.   0.5 ]\n",
      " [0.25 0.25 0.25 0.25]\n",
      " [0.   1.   0.   0.  ]\n",
      " [0.   0.   0.   1.  ]\n",
      " [0.25 0.25 0.25 0.25]\n",
      " [0.   0.5  0.5  0.  ]\n",
      " [0.   1.   0.   0.  ]\n",
      " [0.   0.   0.5  0.5 ]\n",
      " [0.   0.   1.   0.  ]\n",
      " [0.   0.   1.   0.  ]\n",
      " [0.25 0.25 0.25 0.25]]\n"
     ]
    }
   ],
   "source": [
    "print(\"Оптимальная стратегия: \\n\", GetOptimalPolicyByV(env,optVal, gamma))"
   ]
  },
  {
   "cell_type": "code",
   "execution_count": 17,
   "metadata": {},
   "outputs": [
    {
     "data": {
      "text/plain": [
       "[[[0, 1, 2, 3], [0], [0], [0, 1]],\n",
       " [[3], [0, 3], [0, 1, 2, 3], [1]],\n",
       " [[3], [0, 1, 2, 3], [1, 2], [1]],\n",
       " [[2, 3], [2], [2], [0, 1, 2, 3]]]"
      ]
     },
     "execution_count": 17,
     "metadata": {},
     "output_type": "execute_result"
    }
   ],
   "source": [
    "optPolicy = GetOptimalPolicyByV(env,optVal, gamma)\n",
    "optActs = GetOptimalActionsByPolicy(optPolicy)\n",
    "optActs = [optActs[x:x+4] for x in range(0, env.observation_space.n, 4)] \n",
    "optActs"
   ]
  },
  {
   "cell_type": "markdown",
   "metadata": {},
   "source": [
    "### Пример 2\n",
    "\n",
    "Далее, применим реализованные алгоритмы для решения задачи о замёрзшем озере FrozenLake."
   ]
  },
  {
   "cell_type": "code",
   "execution_count": 19,
   "metadata": {},
   "outputs": [
    {
     "name": "stdout",
     "output_type": "stream",
     "text": [
      "Пространство состояний: Discrete(16)\n",
      "Пространство действий: Discrete(4)\n"
     ]
    }
   ],
   "source": [
    "import gymnasium as gym\n",
    "import numpy as np\n",
    "\n",
    "env = gym.make(\"FrozenLake-v1\") #создание экземпляра среды\n",
    "env.reset() # инициализация среды\n",
    "\n",
    "# выведем описания пространств состояний и действий\n",
    "print(\"Пространство состояний:\", env.observation_space)\n",
    "print(\"Пространство действий:\", env.action_space)"
   ]
  },
  {
   "cell_type": "markdown",
   "metadata": {},
   "source": [
    "Запустим симуляцию со случайными действиями."
   ]
  },
  {
   "cell_type": "code",
   "execution_count": 87,
   "metadata": {},
   "outputs": [],
   "source": [
    "import time\n",
    "\n",
    "env = gym.make(\"FrozenLake-v1\", render_mode='human').unwrapped\n",
    "env.reset()\n",
    "\n",
    "while True:\n",
    "    time.sleep(.2)\n",
    "    state, reward, terminated, truncated, _ = env.step(env.action_space.sample()) # выбрать действие случайно\n",
    "    if terminated or truncated:\n",
    "        break\n",
    "    \n",
    "env.close()"
   ]
  },
  {
   "cell_type": "markdown",
   "metadata": {},
   "source": [
    "Запустим алгоритм поиска оптимальной стратегии по методу итерации по стратегиям."
   ]
  },
  {
   "cell_type": "code",
   "execution_count": 27,
   "metadata": {},
   "outputs": [
    {
     "name": "stdout",
     "output_type": "stream",
     "text": [
      "Число итераций:  31\n",
      "Число итераций:  198\n",
      "Число итераций:  179\n",
      "Число шагов улучшения стратегии:  3\n",
      "Число итераций:  1\n",
      "[[0.823 0.823 0.823 0.823]\n",
      " [0.823 0.    0.529 0.   ]\n",
      " [0.823 0.823 0.765 0.   ]\n",
      " [0.    0.882 0.941 0.   ]]\n"
     ]
    },
    {
     "data": {
      "text/plain": [
       "array([[1.  , 0.  , 0.  , 0.  ],\n",
       "       [0.  , 0.  , 0.  , 1.  ],\n",
       "       [0.  , 0.  , 0.  , 1.  ],\n",
       "       [0.  , 0.  , 0.  , 1.  ],\n",
       "       [1.  , 0.  , 0.  , 0.  ],\n",
       "       [0.25, 0.25, 0.25, 0.25],\n",
       "       [0.5 , 0.  , 0.5 , 0.  ],\n",
       "       [0.25, 0.25, 0.25, 0.25],\n",
       "       [0.  , 0.  , 0.  , 1.  ],\n",
       "       [0.  , 1.  , 0.  , 0.  ],\n",
       "       [1.  , 0.  , 0.  , 0.  ],\n",
       "       [0.25, 0.25, 0.25, 0.25],\n",
       "       [0.25, 0.25, 0.25, 0.25],\n",
       "       [0.  , 0.  , 1.  , 0.  ],\n",
       "       [0.  , 1.  , 0.  , 0.  ],\n",
       "       [0.25, 0.25, 0.25, 0.25]])"
      ]
     },
     "execution_count": 27,
     "metadata": {},
     "output_type": "execute_result"
    }
   ],
   "source": [
    "optPolicy, optVal = IterationByPolicy(env, gamma=1.0, theta=1e-5)\n",
    "print(np.round(optVal,3).reshape(4,4))\n",
    "optPolicy"
   ]
  },
  {
   "cell_type": "code",
   "execution_count": 29,
   "metadata": {},
   "outputs": [
    {
     "data": {
      "text/plain": [
       "[[[0], [3], [3], [3]],\n",
       " [[0], [0, 1, 2, 3], [0, 2], [0, 1, 2, 3]],\n",
       " [[3], [1], [0], [0, 1, 2, 3]],\n",
       " [[0, 1, 2, 3], [2], [1], [0, 1, 2, 3]]]"
      ]
     },
     "execution_count": 29,
     "metadata": {},
     "output_type": "execute_result"
    }
   ],
   "source": [
    "optActs = GetOptimalActionsByPolicy(optPolicy)\n",
    "nS = len(env.P)\n",
    "optActs_show = [ optActs[x:x+4] for x in range(0, nS, 4) ] \n",
    "optActs_show"
   ]
  },
  {
   "cell_type": "markdown",
   "metadata": {},
   "source": [
    "Напомним, что нумерация действий значит следующее:\n",
    "\n",
    "    0: влево\n",
    "    1: вниз\n",
    "    2: вправо\n",
    "    3: вверх\n",
    "    \n",
    "Аналогично, применим метод итерации по ценности."
   ]
  },
  {
   "cell_type": "code",
   "execution_count": 31,
   "metadata": {},
   "outputs": [
    {
     "name": "stdout",
     "output_type": "stream",
     "text": [
      "Число итераций:  254\n"
     ]
    },
    {
     "data": {
      "text/plain": [
       "array([[0.82336, 0.82331, 0.82327, 0.82325],\n",
       "       [0.82338, 0.     , 0.5293 , 0.     ],\n",
       "       [0.8234 , 0.82344, 0.76463, 0.     ],\n",
       "       [0.     , 0.88229, 0.94114, 0.     ]])"
      ]
     },
     "execution_count": 31,
     "metadata": {},
     "output_type": "execute_result"
    }
   ],
   "source": [
    "gamma = 1.0\n",
    "optVal=IterationByValues(env, gamma, theta=1e-5)\n",
    "np.round(optVal,5).reshape(4,4)"
   ]
  },
  {
   "cell_type": "code",
   "execution_count": 33,
   "metadata": {},
   "outputs": [
    {
     "data": {
      "text/plain": [
       "[[[0], [3], [3], [3]],\n",
       " [[0], [0, 1, 2, 3], [0, 2], [0, 1, 2, 3]],\n",
       " [[3], [1], [0], [0, 1, 2, 3]],\n",
       " [[0, 1, 2, 3], [2], [1], [0, 1, 2, 3]]]"
      ]
     },
     "execution_count": 33,
     "metadata": {},
     "output_type": "execute_result"
    }
   ],
   "source": [
    "optPolicy = GetOptimalPolicyByV(env,optVal, gamma)\n",
    "optActs = GetOptimalActionsByPolicy(optPolicy)\n",
    "nS = len(env.P)\n",
    "optActs_show = [ optActs[x:x+4] for x in range(0, nS, 4) ] \n",
    "optActs_show"
   ]
  },
  {
   "cell_type": "code",
   "execution_count": 35,
   "metadata": {},
   "outputs": [
    {
     "data": {
      "text/plain": [
       "array([[1.  , 0.  , 0.  , 0.  ],\n",
       "       [0.  , 0.  , 0.  , 1.  ],\n",
       "       [0.  , 0.  , 0.  , 1.  ],\n",
       "       [0.  , 0.  , 0.  , 1.  ],\n",
       "       [1.  , 0.  , 0.  , 0.  ],\n",
       "       [0.25, 0.25, 0.25, 0.25],\n",
       "       [0.5 , 0.  , 0.5 , 0.  ],\n",
       "       [0.25, 0.25, 0.25, 0.25],\n",
       "       [0.  , 0.  , 0.  , 1.  ],\n",
       "       [0.  , 1.  , 0.  , 0.  ],\n",
       "       [1.  , 0.  , 0.  , 0.  ],\n",
       "       [0.25, 0.25, 0.25, 0.25],\n",
       "       [0.25, 0.25, 0.25, 0.25],\n",
       "       [0.  , 0.  , 1.  , 0.  ],\n",
       "       [0.  , 1.  , 0.  , 0.  ],\n",
       "       [0.25, 0.25, 0.25, 0.25]])"
      ]
     },
     "execution_count": 35,
     "metadata": {},
     "output_type": "execute_result"
    }
   ],
   "source": [
    "optPolicy = GetOptimalPolicyByV(env,optVal, gamma)\n",
    "optPolicy"
   ]
  },
  {
   "cell_type": "markdown",
   "metadata": {},
   "source": [
    "Запустим симуляцию среды с обученным агентом, который действует по оптимальной стратегии."
   ]
  },
  {
   "cell_type": "code",
   "execution_count": 89,
   "metadata": {},
   "outputs": [
    {
     "name": "stdout",
     "output_type": "stream",
     "text": [
      "  (Up)\n",
      "SFFF\n",
      "F\u001b[41mH\u001b[0mFH\n",
      "FFFH\n",
      "HFFG\n",
      "\n",
      "finish\n"
     ]
    }
   ],
   "source": [
    "import time\n",
    "from IPython.display import clear_output\n",
    "\n",
    "env = gym.make(\"FrozenLake-v1\", render_mode='ansi')\n",
    "nA = env.action_space.n \n",
    "\n",
    "state, _ = env.reset()\n",
    "print(env.render())\n",
    "\n",
    "while True:\n",
    "    # выбор действий в соответствии с вероятностями из оптимальной стратегии\n",
    "    action = np.random.choice(nA, p = optPolicy[state]) \n",
    "    state, reward, terminated, truncated, _ = env.step(action)\n",
    "    \n",
    "    time.sleep(.2)\n",
    "    clear_output(wait=True)\n",
    "    print(env.render())\n",
    "\n",
    "    if terminated or truncated:\n",
    "        break\n",
    "    \n",
    "print(\"finish\") "
   ]
  },
  {
   "cell_type": "markdown",
   "metadata": {},
   "source": [
    "Проведём симуляцию на 1000 эпизодах и найдём число успешных эпизодов при оптимальной стратегии и стратегии равновероятного выбора действия."
   ]
  },
  {
   "cell_type": "code",
   "execution_count": 91,
   "metadata": {},
   "outputs": [],
   "source": [
    "def play(env, n_episodes, optPolicy):\n",
    "    for episode in range(n_episodes):\n",
    "        state, _ = env.reset()\n",
    "        while True:\n",
    "            # выбираем действия по стратегии\n",
    "            action = np.random.choice(nA, p = optPolicy[state]) \n",
    "            state, reward, terminated, truncated, _ = env.step(action)\n",
    "            if terminated or truncated:\n",
    "                break"
   ]
  },
  {
   "cell_type": "markdown",
   "metadata": {},
   "source": [
    "Посколько параметр `gamma=1.0`, то нет штрафа за длительное взаимодействие со средой. Для текущей задачи это значит, что агент обучается находить максимально безопасный путь. Поэтому временное ограничение в 100 шагов в среде FrozenLake может превышаться. Для изменения этого временного ограничения можно при создании среды указать `max_episode_steps=1000`. В этом случае временное ограничение будет изменено на 1000 шагов. "
   ]
  },
  {
   "cell_type": "code",
   "execution_count": 93,
   "metadata": {},
   "outputs": [
    {
     "name": "stdout",
     "output_type": "stream",
     "text": [
      "Число успешных завершений эпизода:  0.0\n"
     ]
    }
   ],
   "source": [
    "n_episodes = 1000\n",
    "env = gym.make(\"FrozenLake-v1\", render_mode='ansi', max_episode_steps=1000)\n",
    "env = gym.wrappers.RecordEpisodeStatistics(env, buffer_length=n_episodes)\n",
    "\n",
    "play(env, n_episodes, optPolicy)\n",
    "print(\"Число успешных завершений эпизода: \", sum(env.return_queue))"
   ]
  },
  {
   "cell_type": "code",
   "execution_count": 57,
   "metadata": {},
   "outputs": [
    {
     "name": "stdout",
     "output_type": "stream",
     "text": [
      "Число успешных завершений эпизода:  13.0\n"
     ]
    }
   ],
   "source": [
    "# равновероятный выбор действия\n",
    "env.reset()\n",
    "rand_policy = np.ones([16, 4]) / 4\n",
    "play(env, n_episodes, rand_policy)\n",
    "print(\"Число успешных завершений эпизода: \", sum(env.return_queue))"
   ]
  },
  {
   "cell_type": "markdown",
   "metadata": {},
   "source": [
    "В среднем около 82% эпизодов удалось завершить успешно. А при стратегии равновероятного выбора завершить эпизод удаётся лишь в среднем при 1.4% случаях.\n",
    "\n",
    "Можно также найти решения при различных значениях `gamma`. Выше решение найдено при `gamma=1`. Это значит поиск стратегии, которая прокладывает максимально безопасный путь.\n",
    "\n",
    "Можно также посчитать решение, например, при `gamma=0.9`. Тогда агент будет искать баланс между безопасным путём и длительностью прохождения (в данном случае далёкая награда за успешное завершение будет сильно обесценена). Полученная оптимальная стратегия будет отличаться от оптимальной стратегии при `gamma=1`."
   ]
  },
  {
   "cell_type": "code",
   "execution_count": 61,
   "metadata": {},
   "outputs": [
    {
     "name": "stdout",
     "output_type": "stream",
     "text": [
      "Число итераций:  21\n",
      "Число итераций:  46\n",
      "Число шагов улучшения стратегии:  2\n",
      "Число итераций:  1\n",
      "[[0.069 0.061 0.074 0.056]\n",
      " [0.092 0.    0.112 0.   ]\n",
      " [0.145 0.247 0.3   0.   ]\n",
      " [0.    0.38  0.639 0.   ]]\n"
     ]
    }
   ],
   "source": [
    "env = gym.make(\"FrozenLake-v1\", render_mode='ansi').unwrapped\n",
    "\n",
    "optPolicy, optVal = IterationByPolicy(env, gamma=0.9, theta=1e-5)\n",
    "print(np.round(optVal,3).reshape(4,4))"
   ]
  },
  {
   "cell_type": "code",
   "execution_count": 63,
   "metadata": {},
   "outputs": [
    {
     "data": {
      "text/plain": [
       "[[[0], [3], [0], [3]],\n",
       " [[0], [0, 1, 2, 3], [0, 2], [0, 1, 2, 3]],\n",
       " [[3], [1], [0], [0, 1, 2, 3]],\n",
       " [[0, 1, 2, 3], [2], [1], [0, 1, 2, 3]]]"
      ]
     },
     "execution_count": 63,
     "metadata": {},
     "output_type": "execute_result"
    }
   ],
   "source": [
    "optActs = GetOptimalActionsByPolicy(optPolicy)\n",
    "nS = len(env.P)\n",
    "optActs_show = [ optActs[x:x+4] for x in range(0, nS, 4) ] \n",
    "optActs_show"
   ]
  },
  {
   "cell_type": "code",
   "execution_count": 67,
   "metadata": {},
   "outputs": [
    {
     "name": "stdout",
     "output_type": "stream",
     "text": [
      "Число успешных завершений эпизода:  780.0\n"
     ]
    }
   ],
   "source": [
    "n_episodes = 1000\n",
    "env = gym.make(\"FrozenLake-v1\", render_mode='ansi', max_episode_steps=1000)\n",
    "env = gym.wrappers.RecordEpisodeStatistics(env, buffer_length=n_episodes)\n",
    "\n",
    "play(env, n_episodes, optPolicy)\n",
    "print(\"Число успешных завершений эпизода: \", sum(env.return_queue))"
   ]
  },
  {
   "cell_type": "markdown",
   "metadata": {},
   "source": [
    "Среднее число успешных завершений теперь около 78%."
   ]
  },
  {
   "cell_type": "markdown",
   "metadata": {},
   "source": [
    "### Пример 3\n",
    "\n",
    "Рассмотрим задачу FrozenLake с полем 8 на 8 клеток. Правила аналогичны задаче FrozenLake с полем 4 на 4, просто поле имеет теперь больший размер."
   ]
  },
  {
   "cell_type": "code",
   "execution_count": 4,
   "metadata": {},
   "outputs": [
    {
     "name": "stdout",
     "output_type": "stream",
     "text": [
      "Пространство состояний: Discrete(64)\n",
      "Пространство действий: Discrete(4)\n"
     ]
    }
   ],
   "source": [
    "import gymnasium as gym\n",
    "import numpy as np\n",
    "\n",
    "env = gym.make(\"FrozenLake-v1\", map_name=\"8x8\")\n",
    "env.reset() # инициализация среды\n",
    "\n",
    "# выведем описания пространств состояний и действий\n",
    "print(\"Пространство состояний:\", env.observation_space)\n",
    "print(\"Пространство действий:\", env.action_space)"
   ]
  },
  {
   "cell_type": "markdown",
   "metadata": {},
   "source": [
    "Запустим симуляцию среды со случайными действиями."
   ]
  },
  {
   "cell_type": "code",
   "execution_count": 95,
   "metadata": {},
   "outputs": [],
   "source": [
    "import time\n",
    "\n",
    "env = gym.make(\"FrozenLake-v1\", map_name=\"8x8\", render_mode = 'human').unwrapped\n",
    "env.reset()\n",
    "\n",
    "while True:\n",
    "    time.sleep(.2)\n",
    "    state, reward, terminated, truncated, _ = env.step(env.action_space.sample()) # выбрать действие случайно\n",
    "    if terminated or truncated:\n",
    "        break\n",
    "    \n",
    "env.close()"
   ]
  },
  {
   "cell_type": "markdown",
   "metadata": {},
   "source": [
    "Как и ранее, сначала применим метод итерации по стратегиям."
   ]
  },
  {
   "cell_type": "code",
   "execution_count": 107,
   "metadata": {},
   "outputs": [
    {
     "name": "stdout",
     "output_type": "stream",
     "text": [
      "Число итераций:  14\n",
      "Число итераций:  118\n",
      "Число итераций:  67\n",
      "Число итераций:  50\n",
      "Число итераций:  42\n",
      "Число итераций:  29\n",
      "Число итераций:  4\n",
      "Число итераций:  1\n",
      "Число шагов улучшения стратегии:  8\n",
      "Число итераций:  1\n",
      "[[1.   1.   1.   1.   1.   1.   1.   1.  ]\n",
      " [1.   1.   1.   1.   1.   1.   1.   1.  ]\n",
      " [0.99 0.97 0.92 0.   0.85 0.94 0.98 1.  ]\n",
      " [0.98 0.92 0.79 0.47 0.62 0.   0.94 1.  ]\n",
      " [0.97 0.81 0.53 0.   0.54 0.61 0.85 1.  ]\n",
      " [0.96 0.   0.   0.17 0.38 0.44 0.   1.  ]\n",
      " [0.96 0.   0.19 0.12 0.   0.33 0.   1.  ]\n",
      " [0.96 0.7  0.44 0.   0.28 0.55 0.78 0.  ]]\n"
     ]
    }
   ],
   "source": [
    "env = gym.make(\"FrozenLake-v1\", map_name=\"8x8\").unwrapped\n",
    "env.reset()\n",
    "\n",
    "optPolicy, optVal = IterationByPolicy(env, gamma=1.0, theta=1e-3)\n",
    "print(np.round(optVal,2).reshape(8,8))"
   ]
  },
  {
   "cell_type": "code",
   "execution_count": 99,
   "metadata": {},
   "outputs": [
    {
     "data": {
      "text/plain": [
       "[[[1], [2], [2], [2], [2], [2], [2], [2]],\n",
       " [[3], [3], [3], [3], [3], [3], [3], [2]],\n",
       " [[0], [3], [0], [0, 1, 2, 3], [2], [3], [3], [2]],\n",
       " [[0], [0], [0], [1, 3], [0], [0, 1, 2, 3], [2], [2]],\n",
       " [[0], [3], [0, 3], [0, 1, 2, 3], [2], [1], [3], [2]],\n",
       " [[0], [0, 1, 2, 3], [0, 1, 2, 3], [1, 2], [3], [0], [0, 1, 2, 3], [2]],\n",
       " [[0], [0, 1, 2, 3], [1, 2], [0, 3], [0, 1, 2, 3], [0, 2], [0, 1, 2, 3], [2]],\n",
       " [[0], [1], [0], [0, 1, 2, 3], [1, 2], [2], [1], [0, 1, 2, 3]]]"
      ]
     },
     "execution_count": 99,
     "metadata": {},
     "output_type": "execute_result"
    }
   ],
   "source": [
    "optPolicy = GetOptimalPolicyByV(env, optVal, gamma = 1.0)\n",
    "optActs = GetOptimalActionsByPolicy(optPolicy)\n",
    "nS = len(env.P)\n",
    "optActs_show = [ optActs[x:x+8] for x in range(0, nS, 8) ] \n",
    "optActs_show"
   ]
  },
  {
   "cell_type": "markdown",
   "metadata": {},
   "source": [
    "Применим также метод итерация по ценности."
   ]
  },
  {
   "cell_type": "code",
   "execution_count": 79,
   "metadata": {},
   "outputs": [
    {
     "name": "stdout",
     "output_type": "stream",
     "text": [
      "Число итераций:  343\n"
     ]
    },
    {
     "data": {
      "text/plain": [
       "array([[1.  , 1.  , 1.  , 1.  , 1.  , 1.  , 1.  , 1.  ],\n",
       "       [1.  , 1.  , 1.  , 1.  , 1.  , 1.  , 1.  , 1.  ],\n",
       "       [1.  , 0.98, 0.92, 0.  , 0.86, 0.95, 0.98, 1.  ],\n",
       "       [1.  , 0.93, 0.8 , 0.47, 0.62, 0.  , 0.94, 1.  ],\n",
       "       [1.  , 0.82, 0.54, 0.  , 0.54, 0.61, 0.85, 1.  ],\n",
       "       [1.  , 0.  , 0.  , 0.17, 0.38, 0.44, 0.  , 1.  ],\n",
       "       [1.  , 0.  , 0.19, 0.12, 0.  , 0.33, 0.  , 1.  ],\n",
       "       [0.99, 0.73, 0.46, 0.  , 0.28, 0.55, 0.78, 0.  ]])"
      ]
     },
     "execution_count": 79,
     "metadata": {},
     "output_type": "execute_result"
    }
   ],
   "source": [
    "gamma = 1.0\n",
    "optVal=IterationByValues(env, gamma, theta=1e-4)\n",
    "np.round(optVal,2).reshape(8,8)"
   ]
  },
  {
   "cell_type": "code",
   "execution_count": 81,
   "metadata": {},
   "outputs": [],
   "source": [
    "optPolicy = GetOptimalPolicyByV(env,optVal, gamma)\n",
    "optActs = GetOptimalActionsByPolicy(optPolicy)\n",
    "#optActs_show = [ optActs[x:x+8] for x in range(0, env.nS, 8) ] "
   ]
  },
  {
   "cell_type": "markdown",
   "metadata": {},
   "source": [
    "Запустим симуляцию среды с обученным агентом, который действует по оптимальной стратегии."
   ]
  },
  {
   "cell_type": "code",
   "execution_count": 83,
   "metadata": {},
   "outputs": [
    {
     "name": "stdout",
     "output_type": "stream",
     "text": [
      "  (Right)\n",
      "SFFFFFFF\n",
      "FFFFFFFF\n",
      "FFFHFFFF\n",
      "FFFFFHFF\n",
      "FFFHFFFF\n",
      "FHHFFFHF\n",
      "FHFFHFHF\n",
      "FFFHFFF\u001b[41mG\u001b[0m\n",
      "\n",
      "finish\n"
     ]
    }
   ],
   "source": [
    "import time\n",
    "from IPython.display import clear_output\n",
    "\n",
    "env = gym.make(\"FrozenLake-v1\", map_name=\"8x8\", render_mode='ansi', max_episode_steps=1000)\n",
    "\n",
    "nA = env.action_space.n \n",
    "state, _ = env.reset()\n",
    "print(env.render())\n",
    "\n",
    "while True:\n",
    "    # выбор действий в соответствии с вероятностями из оптимальной стратегии\n",
    "    action = np.random.choice(nA, p = optPolicy[state]) \n",
    "    state, reward, terminated, truncated, _ = env.step(action)\n",
    "    \n",
    "    time.sleep(.2)\n",
    "    clear_output(wait=True)\n",
    "    print(env.render())\n",
    "\n",
    "    if terminated or truncated:\n",
    "        break\n",
    "    \n",
    "print(\"finish\") "
   ]
  },
  {
   "cell_type": "markdown",
   "metadata": {},
   "source": [
    "Проведём симуляцию на 1000 эпизодах."
   ]
  },
  {
   "cell_type": "code",
   "execution_count": 109,
   "metadata": {},
   "outputs": [],
   "source": [
    "def play(env, n_episodes, optPolicy):\n",
    "    for episode in range(n_episodes):\n",
    "        nA = env.action_space.n \n",
    "        state, _ = env.reset()\n",
    "        while True:\n",
    "            # выбираем действия по стратегии\n",
    "            action = np.random.choice(nA, p = optPolicy[state]) \n",
    "            state, reward, terminated, truncated, _ = env.step(action)\n",
    "            if terminated or truncated:\n",
    "                break"
   ]
  },
  {
   "cell_type": "code",
   "execution_count": 117,
   "metadata": {},
   "outputs": [
    {
     "name": "stdout",
     "output_type": "stream",
     "text": [
      "Число успешных завершений эпизода:  100.0\n"
     ]
    }
   ],
   "source": [
    "n_episodes = 100\n",
    "env = gym.make(\"FrozenLake-v1\", map_name=\"8x8\", render_mode='ansi', max_episode_steps=1000)\n",
    "env = gym.wrappers.RecordEpisodeStatistics(env, buffer_length=n_episodes)\n",
    "\n",
    "play(env, n_episodes, optPolicy)\n",
    "print(\"Число успешных завершений эпизода: \", sum(env.return_queue))"
   ]
  },
  {
   "cell_type": "markdown",
   "metadata": {},
   "source": [
    "То есть в этой задаче оптимальная стратегия всегда позволяет добраться до целевой клетки."
   ]
  },
  {
   "cell_type": "markdown",
   "metadata": {},
   "source": [
    "### Пример 4 \n",
    "\n",
    "Рассмотрим задачу об управлении такси из библиотеки `gymnasium`. Эта среда также имеет полное описание динамики с помощью словаря `env.P`.\n",
    "\n",
    "Среда представляет собой клеточное поле в виде квадрата 5 на 5 клеток, на котором отмечены 4 клетки R, G, Y, B (сокращения от названий цветов). В одной из этих клеток, выбранной случайным образом, находится пассажир. И в одной и трёх оставшихся клеток находится место, куда пассажир хочет добраться на такси.\n",
    "\n",
    "Такси может находится в одной из 25 клеток, пассажир может быть в такси или в одной из 4-х выделенных клеток и точка назначения может быть в одной из выделенных клеток. Эти три параметра задают весь набор состояний. То есть общее число состояний равно $25 *5 *4=500.$\n",
    "Таким образом, состояние среды представляет собой индекс 1 до 500.\n",
    "\n",
    "Есть 6 возможных действий: \n",
    "\n",
    "    движение такси вверх, вниз, влево, вправо, а также подобрать пассажира и высадить пассажира.\n",
    "\t\n",
    "Возможные вознаграждения следующие:\n",
    "\n",
    "    -1 за временной шаг, \n",
    "    +20 за успешную посадку\\высадку, \n",
    "    -10 за посадку\\высадку в неправильных клетках.\n",
    "\n",
    "Эпизод заканчивается, когда пассажир высажен в нужной клетке, либо время взаимодействия превышает 200 временных шагов."
   ]
  },
  {
   "cell_type": "code",
   "execution_count": 5,
   "metadata": {},
   "outputs": [
    {
     "name": "stdout",
     "output_type": "stream",
     "text": [
      "Пространство состояний: Discrete(500)\n",
      "Пространство действий: Discrete(6)\n"
     ]
    }
   ],
   "source": [
    "import gymnasium as gym\n",
    "import numpy as np\n",
    "env = gym.make(\"Taxi-v3\")\n",
    "env.reset()\n",
    "\n",
    "# выведем описания пространств состояний и действий\n",
    "print(\"Пространство состояний:\", env.observation_space)\n",
    "print(\"Пространство действий:\", env.action_space)"
   ]
  },
  {
   "cell_type": "markdown",
   "metadata": {},
   "source": [
    "Запустим симуляцию со случайными действями. Опять же доступно два варианта визуализации: графическая и текстовая."
   ]
  },
  {
   "cell_type": "code",
   "execution_count": null,
   "metadata": {},
   "outputs": [],
   "source": [
    "import time\n",
    "\n",
    "env = gym.make(\"Taxi-v3\", render_mode = 'human', max_episode_steps = 100)\n",
    "env.reset()\n",
    "\n",
    "while True:   \n",
    "    time.sleep(.1)\n",
    "    state, reward, terminated, truncated, _ = env.step(env.action_space.sample()) # выбрать действие случайно\n",
    "    if terminated or truncated:\n",
    "        break\n",
    "env.close()"
   ]
  },
  {
   "cell_type": "code",
   "execution_count": 3,
   "metadata": {},
   "outputs": [
    {
     "name": "stdout",
     "output_type": "stream",
     "text": [
      "+---------+\n",
      "|\u001b[35mR\u001b[0m: | : :\u001b[34;1mG\u001b[0m|\n",
      "| : | : : |\n",
      "| : : : : |\n",
      "| | : | : |\n",
      "|\u001b[43mY\u001b[0m| : |B: |\n",
      "+---------+\n",
      "  (West)\n",
      "\n"
     ]
    }
   ],
   "source": [
    "import time\n",
    "from IPython.display import clear_output\n",
    "\n",
    "env = gym.make(\"Taxi-v3\", render_mode='ansi', max_episode_steps = 100)\n",
    "env.reset()\n",
    "print(env.render())\n",
    "\n",
    "while True:       \n",
    "    state, reward, terminated, truncated, _ = env.step(env.action_space.sample()) # выбрать действие случайно\n",
    "    \n",
    "    time.sleep(.1)\n",
    "    clear_output(wait=True)      \n",
    "    print(env.render())\n",
    "    \n",
    "    if terminated or truncated:\n",
    "        break\n",
    "\n",
    "env.close()"
   ]
  },
  {
   "cell_type": "markdown",
   "metadata": {},
   "source": [
    "Применим метод итерации по стратегиям для обучения агента оптимальной стратегии."
   ]
  },
  {
   "cell_type": "code",
   "execution_count": 13,
   "metadata": {},
   "outputs": [
    {
     "name": "stdout",
     "output_type": "stream",
     "text": [
      "Число итераций:  134\n",
      "Число итераций:  155\n",
      "Число итераций:  58\n",
      "Число итераций:  6\n",
      "Число итераций:  85\n",
      "Число итераций:  45\n",
      "Число итераций:  32\n",
      "Число итераций:  54\n",
      "Число итераций:  30\n",
      "Число итераций:  31\n",
      "Число итераций:  2\n",
      "Число шагов улучшения стратегии:  11\n",
      "Число итераций:  1\n"
     ]
    }
   ],
   "source": [
    "env = gym.make(\"Taxi-v3\", render_mode='ansi').unwrapped\n",
    "env.reset()\n",
    "\n",
    "optPolicy, optVal = IterationByPolicy(env, gamma=0.95, theta=1e-3)"
   ]
  },
  {
   "cell_type": "code",
   "execution_count": 19,
   "metadata": {},
   "outputs": [],
   "source": [
    "optActs = GetOptimalActionsByPolicy(optPolicy)"
   ]
  },
  {
   "cell_type": "markdown",
   "metadata": {},
   "source": [
    "Применим метод итерации по ценности для обучения агента оптимальной стратегии."
   ]
  },
  {
   "cell_type": "code",
   "execution_count": 131,
   "metadata": {},
   "outputs": [
    {
     "name": "stdout",
     "output_type": "stream",
     "text": [
      "Число итераций:  146\n"
     ]
    }
   ],
   "source": [
    "gamma = 0.95\n",
    "optVal=IterationByValues(env, gamma, theta=1e-5)\n",
    "#np.round(optVal,2)"
   ]
  },
  {
   "cell_type": "code",
   "execution_count": 133,
   "metadata": {},
   "outputs": [
    {
     "data": {
      "text/plain": [
       "array([[0. , 0. , 0. , 0. , 1. , 0. ],\n",
       "       [0. , 0. , 0. , 0. , 1. , 0. ],\n",
       "       [0. , 0. , 0. , 0. , 1. , 0. ],\n",
       "       ...,\n",
       "       [0. , 1. , 0. , 0. , 0. , 0. ],\n",
       "       [0. , 0.5, 0. , 0.5, 0. , 0. ],\n",
       "       [0. , 0. , 0. , 1. , 0. , 0. ]])"
      ]
     },
     "execution_count": 133,
     "metadata": {},
     "output_type": "execute_result"
    }
   ],
   "source": [
    "optPolicy = GetOptimalPolicyByV(env,optVal, gamma)\n",
    "optPolicy"
   ]
  },
  {
   "cell_type": "markdown",
   "metadata": {},
   "source": [
    "Запустим симуляцию среды с обученным агентом, который действует по оптимальной стратегии."
   ]
  },
  {
   "cell_type": "code",
   "execution_count": 25,
   "metadata": {},
   "outputs": [
    {
     "name": "stdout",
     "output_type": "stream",
     "text": [
      "+---------+\n",
      "|R: | : :G|\n",
      "| : | : : |\n",
      "| : : : : |\n",
      "| | : | : |\n",
      "|\u001b[35m\u001b[34;1m\u001b[43mY\u001b[0m\u001b[0m\u001b[0m| : |B: |\n",
      "+---------+\n",
      "  (Dropoff)\n",
      "\n",
      "finish\n"
     ]
    }
   ],
   "source": [
    "import time\n",
    "from IPython.display import clear_output\n",
    "\n",
    "env = gym.make(\"Taxi-v3\", render_mode = 'ansi')\n",
    "nA = env.action_space.n \n",
    "\n",
    "state, _ = env.reset()\n",
    "print(env.render())\n",
    "\n",
    "while True:\n",
    "    # выбор действий в соответствии с вероятностями из оптимальной стратегии\n",
    "    action = np.random.choice(nA, p = optPolicy[state]) \n",
    "    state, reward, terminated, truncated, _ = env.step(action)\n",
    "    \n",
    "    time.sleep(.2)\n",
    "    clear_output(wait=True)\n",
    "    print(env.render())\n",
    "    \n",
    "    if terminated or truncated:\n",
    "        break\n",
    "    \n",
    "print(\"finish\") "
   ]
  },
  {
   "cell_type": "code",
   "execution_count": 137,
   "metadata": {},
   "outputs": [
    {
     "name": "stdout",
     "output_type": "stream",
     "text": [
      "finish\n"
     ]
    }
   ],
   "source": [
    "# симуляция с рендерингом\n",
    "env = gym.make(\"Taxi-v3\", render_mode = 'human')\n",
    "nA = env.action_space.n \n",
    "\n",
    "state, _ = env.reset()\n",
    "\n",
    "while True:\n",
    "    # выбор действий в соответствии с вероятностями из оптимальной стратегии\n",
    "    action = np.random.choice(nA, p = optPolicy[state]) \n",
    "    state, reward, terminated, truncated, _ = env.step(action)\n",
    "    if terminated or truncated:\n",
    "        break"
   ]
  },
  {
   "cell_type": "markdown",
   "metadata": {},
   "source": [
    "Проведём также симуляцию на большом числе эпизодов. Будем записывать полученные доходы и выведем гистограмму распределения доходов."
   ]
  },
  {
   "cell_type": "code",
   "execution_count": 29,
   "metadata": {},
   "outputs": [],
   "source": [
    "def play(env, n_episodes, optPolicy):\n",
    "    for episode in range(n_episodes):\n",
    "        nA = env.action_space.n \n",
    "        state, _ = env.reset()\n",
    "        while True:\n",
    "            # выбираем действия по стратегии\n",
    "            action = np.random.choice(nA, p = optPolicy[state]) \n",
    "            state, reward, terminated, truncated, _ = env.step(action)\n",
    "            if terminated or truncated:\n",
    "                break"
   ]
  },
  {
   "cell_type": "code",
   "execution_count": 31,
   "metadata": {},
   "outputs": [],
   "source": [
    "n_episodes = 10000\n",
    "env = gym.make(\"Taxi-v3\")\n",
    "env = gym.wrappers.RecordEpisodeStatistics(env, buffer_length=n_episodes)\n",
    "\n",
    "play(env, n_episodes, optPolicy)"
   ]
  },
  {
   "cell_type": "code",
   "execution_count": 141,
   "metadata": {},
   "outputs": [
    {
     "name": "stdout",
     "output_type": "stream",
     "text": [
      "Средний доход за эпизод равен: 7.9479\n",
      "Минимальный доход за эпизод равен: 3.0\n",
      "Максимальный доход за эпизод равен: 15.0\n"
     ]
    },
    {
     "data": {
      "image/png": "[encoded data removed]",
      "text/plain": [
       "<Figure size 640x480 with 1 Axes>"
      ]
     },
     "metadata": {},
     "output_type": "display_data"
    }
   ],
   "source": [
    "print('Средний доход за эпизод равен:', np.mean(env.return_queue))\n",
    "print('Минимальный доход за эпизод равен:', np.min(env.return_queue))\n",
    "print('Максимальный доход за эпизод равен:', np.max(env.return_queue))\n",
    "\n",
    "import matplotlib.pyplot as plt\n",
    "plt.hist(env.return_queue, bins=13, color='#00000f')\n",
    "plt.show()"
   ]
  },
  {
   "cell_type": "markdown",
   "metadata": {},
   "source": [
    "Можно отметить, что минимальный доход за эпизод равен 3, это соответствует наихудшему начальному состоянию, когда такси требуется проехать максимальное число клеток.\n",
    "\n",
    "Можно также найти наилучший средний доход за 100 эпизодов, сделав несколько прогонов этих 100 эпизодов."
   ]
  },
  {
   "cell_type": "code",
   "execution_count": 75,
   "metadata": {},
   "outputs": [
    {
     "name": "stdout",
     "output_type": "stream",
     "text": [
      "7.54\n",
      "7.75\n",
      "8.57\n"
     ]
    }
   ],
   "source": [
    "best = 0\n",
    "for i in np.arange(100):\n",
    "    gains = play(env, 100, optPolicy)\n",
    "    avg = np.mean(gains)\n",
    "    if avg>best:\n",
    "        best = avg\n",
    "        print(best)"
   ]
  },
  {
   "cell_type": "code",
   "execution_count": null,
   "metadata": {},
   "outputs": [],
   "source": []
  }
 ],
 "metadata": {
  "colab": {
   "authorship_tag": "ABX9TyMDnfQdfW/8Vf/y6aqJb9pK",
   "name": "2.1 RL_DP_netWorld.ipynb",
   "provenance": []
  },
  "kernelspec": {
   "display_name": "Python [conda env:base] *",
   "language": "python",
   "name": "conda-base-py"
  },
  "language_info": {
   "codemirror_mode": {
    "name": "ipython",
    "version": 3
   },
   "file_extension": ".py",
   "mimetype": "text/x-python",
   "name": "python",
   "nbconvert_exporter": "python",
   "pygments_lexer": "ipython3",
   "version": "3.12.7"
  }
 },
 "nbformat": 4,
 "nbformat_minor": 4
}
