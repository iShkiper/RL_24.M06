{
 "cells": [
  {
   "cell_type": "markdown",
   "id": "e9f35d9f",
   "metadata": {},
   "source": [
    "# Демонстрация работы различных сред библиотеки gymnasium\n",
    "\n",
    "Рассмотрим работу различных сред из библиотеки `gymnasium` (ранее OpenAI Gym). \n",
    "\n",
    "https://gymnasium.farama.org/\n",
    "\n",
    "Установить эту среду можно командой\n",
    "\n",
    "    pip install gymnasium"
   ]
  },
  {
   "cell_type": "code",
   "execution_count": 1,
   "id": "1ea4db06",
   "metadata": {},
   "outputs": [
    {
     "data": {
      "text/plain": [
       "'1.0.0'"
      ]
     },
     "execution_count": 1,
     "metadata": {},
     "output_type": "execute_result"
    }
   ],
   "source": [
    "# загрузка библиотеки gymnasium\n",
    "import gymnasium as gym\n",
    "gym.__version__"
   ]
  },
  {
   "cell_type": "markdown",
   "id": "952f2ad1",
   "metadata": {},
   "source": [
    "Создание экземпляра среды осуществляется командой\n",
    "\n",
    "    env = gym.make('EnvTitle')\n",
    "    \n",
    "где `EnvTitle` -- это название среды. \n",
    "\n",
    "У экземпляра среды есть метод `env.reset()` для помещения среды в начальное состояние. \n",
    "\n",
    "Для визуализации состояния среды можно воспользоваться методом `env.render()`.\n",
    "\n",
    "Для завершения работы со средой необходимо использовать метод `env.close()`.\n",
    "\n",
    "Получить описание пространства состояний и действий для выбранной среды можно командами\n",
    "\n",
    "    env.observation_space\n",
    "    env.action_space\n",
    "\n",
    "В частности, выдать случаное состояние или действие можно командами\n",
    "\n",
    "    env.observation_space.sample()\n",
    "    env.action_space.sample()\n",
    "\n",
    "Для различных сред напечатаем начальное состояние, число действий. А также запустим симуляцию работы среды, выбирая действия случайным образом."
   ]
  },
  {
   "cell_type": "markdown",
   "id": "c52b330d",
   "metadata": {},
   "source": [
    "### Среда FrozenLake\n",
    "\n",
    "Для анимированного рендеринга сред потребуется библиотека `pygame`.\n",
    "Её можно установить командой \n",
    "\n",
    "    pip install pygame"
   ]
  },
  {
   "cell_type": "code",
   "execution_count": 2,
   "id": "392c39a4",
   "metadata": {},
   "outputs": [
    {
     "name": "stdout",
     "output_type": "stream",
     "text": [
      "Начальное состояние: 0\n",
      "Количество действий: 4\n",
      "Пространство состояний: Discrete(16)\n",
      "Пространство действий: Discrete(4)\n"
     ]
    }
   ],
   "source": [
    "# создание экземпляра среды\n",
    "env = gym.make('FrozenLake-v1')\n",
    "\n",
    "# обнуление среды и получение начального состояния\n",
    "state, _ = env.reset()\n",
    "print(\"Начальное состояние:\", state)\n",
    "\n",
    "# возможные действия\n",
    "print(\"Количество действий:\", env.action_space.n)\n",
    "\n",
    "# выведем описания пространств состояний и действий\n",
    "print(\"Пространство состояний:\", env.observation_space)\n",
    "print(\"Пространство действий:\", env.action_space)"
   ]
  },
  {
   "cell_type": "markdown",
   "id": "4d79b8d5",
   "metadata": {},
   "source": [
    "Для данной среды пространство состояний имеет вид `Discrete(16)`. Это значит среда имеет 16 дискретных состояний.\n",
    "Пространство действий имеет вид `Discrete(4)`. Это значит агенту доступно 4 дискретных действия.\n",
    "\n",
    "Запустим симуляцию среды со случайными действями. Для выбора случайного действия можно использовать команду \n",
    "\n",
    "    action = env.action_space.sample()\n",
    "    \n",
    "Для перехода к новому состоянию среды по сделанному действию и текущему состоянию используется команда `env.step(action)`.\n",
    "Эта команда также позволяет получить кортеж из 5 аргументов: \n",
    "\n",
    "    (новое состояние, \n",
    "    вознаграждение, \n",
    "    флаг о достижении заключительного состояния, \n",
    "    флаг об остановке взаимодействия по времени, \n",
    "    прочая информация)."
   ]
  },
  {
   "cell_type": "code",
   "execution_count": 3,
   "id": "19b48ddc",
   "metadata": {},
   "outputs": [
    {
     "name": "stdout",
     "output_type": "stream",
     "text": [
      "Доход: 0.0\n"
     ]
    }
   ],
   "source": [
    "# создание симуляции с автоматическим рендерингом изображения\n",
    "# установим также ограничение на количество шагов, так как действия случайны\n",
    "env = gym.make('FrozenLake-v1', render_mode = 'human', max_episode_steps=50)\n",
    "# обнуление среды и получение начального состояния\n",
    "state, _ = env.reset()\n",
    "\n",
    "# для записи дохода\n",
    "gain = 0\n",
    "# флаг о конце эпизода\n",
    "episode_over = False\n",
    "\n",
    "while not episode_over:\n",
    "    # выбор действия\n",
    "    action = env.action_space.sample()\n",
    "    # совершение действия и переход среды к новому состоянию, \n",
    "    # получение вознаграждения и автоматический рендер изображения\n",
    "    state, reward, terminated, truncated, info = env.step(action)\n",
    "    # обновление дохода\n",
    "    gain += reward\n",
    "    # обновления флагп о конце эпизода\n",
    "    episode_over = terminated or truncated\n",
    "    \n",
    "print(\"Доход:\", gain)\n",
    "# завершить взаимодействие со средой\n",
    "env.close()"
   ]
  },
  {
   "cell_type": "markdown",
   "id": "a4b80a63-bfd1-49d5-b665-05798e7f7be6",
   "metadata": {},
   "source": [
    "Чтобы создать среду без автоматического рендеринга изображения можно использовать команду\n",
    "\n",
    "    env = gym.make('FrozenLake-v1', render_mode = None)\n",
    "\n",
    "или просто\n",
    "\n",
    "    env = gym.make('FrozenLake-v1')\n",
    "\n",
    "так как параметр `render_mode` имеет по умолчанию значение `None`. \n",
    "\n",
    "Ряд простых сред можно также запустить с упрощённым рендерингом в текстовом формате. Для этого при создании среды надо указать параметр `render_mode=\"ansi\"`. Приведём пример запуска симуляции с таким способом рендеринга."
   ]
  },
  {
   "cell_type": "code",
   "execution_count": 5,
   "id": "1ee8b9da-0b67-4873-98bf-6f3414d72060",
   "metadata": {},
   "outputs": [
    {
     "name": "stdout",
     "output_type": "stream",
     "text": [
      "  (Left)\n",
      "SFFF\n",
      "FHF\u001b[41mH\u001b[0m\n",
      "FFFH\n",
      "HFFG\n",
      "\n",
      "Доход: 0.0\n"
     ]
    }
   ],
   "source": [
    "# подгрузка дополнительных библиотек\n",
    "import time\n",
    "from IPython.display import clear_output\n",
    "\n",
    "# создание симуляции с упрощённым рендерингом изображения\n",
    "env = gym.make('FrozenLake-v1', render_mode=\"ansi\", max_episode_steps=50)\n",
    "state, _ = env.reset()\n",
    "# печать начального состояния\n",
    "print(env.render())\n",
    "\n",
    "gain = 0\n",
    "episode_over = False\n",
    "\n",
    "while not episode_over:\n",
    "    # выбор действия\n",
    "    action = env.action_space.sample()\n",
    "    # переход среды к новому состоянию\n",
    "    state, reward, terminated, truncated, info = env.step(action)\n",
    "    \n",
    "    gain += reward\n",
    "    episode_over = terminated or truncated\n",
    "    \n",
    "    # печать упрощённого рендеринга\n",
    "    time.sleep(.2)\n",
    "    clear_output(wait=True)\n",
    "    print(env.render())\n",
    "    \n",
    "print(\"Доход:\", gain)\n",
    "# завершить взаимодействие со средой\n",
    "env.close() "
   ]
  },
  {
   "cell_type": "markdown",
   "id": "02ed464d",
   "metadata": {},
   "source": [
    "Цель агента в этой среде заключается в том, чтобы провести человечка по льду от старта до цели."
   ]
  },
  {
   "cell_type": "markdown",
   "id": "39de1f97",
   "metadata": {},
   "source": [
    "### Среда Taxi\n",
    "\n",
    "Рассмотрим ещё одну среду, схожую с предыдущей."
   ]
  },
  {
   "cell_type": "code",
   "execution_count": 8,
   "id": "aa5c8247",
   "metadata": {},
   "outputs": [
    {
     "name": "stdout",
     "output_type": "stream",
     "text": [
      "Начальное состояние: 343\n",
      "Количество действий: 6\n",
      "Пространство состояний: Discrete(500)\n",
      "Пространство действий: Discrete(6)\n"
     ]
    }
   ],
   "source": [
    "# создание экземпляра среды\n",
    "env = gym.make('Taxi-v3')\n",
    "\n",
    "# обнуление среды и получение начального состояния\n",
    "state, _ = env.reset()\n",
    "print(\"Начальное состояние:\", state)\n",
    "\n",
    "# возможные действия\n",
    "print(\"Количество действий:\", env.action_space.n)\n",
    "\n",
    "# выведем описания пространств состояний и действий\n",
    "print(\"Пространство состояний:\", env.observation_space)\n",
    "print(\"Пространство действий:\", env.action_space)"
   ]
  },
  {
   "cell_type": "markdown",
   "id": "aa4b4201",
   "metadata": {},
   "source": [
    "Пространство состояний состоит из 500 дискретных состояний. Агенту доступно 6 дискретных действий. Запустим симуляцию среды со случайными действями. \n",
    "\n",
    "При создании среды можно использовать дополнительные классы-обёртки для среды. См. подробности:\n",
    "\n",
    "https://gymnasium.farama.org/api/wrappers/\n",
    "\n",
    "Добавим обёртку для автоматического слежения за показателем дохода за эпизод. Доход записывается к специальную структуру данных - очередь (англ. queue)."
   ]
  },
  {
   "cell_type": "code",
   "execution_count": 7,
   "id": "645d36b0-e8a0-45b2-b793-d97f08919401",
   "metadata": {},
   "outputs": [
    {
     "name": "stdout",
     "output_type": "stream",
     "text": [
      "Доход: deque([-158.0], maxlen=100)\n"
     ]
    }
   ],
   "source": [
    "# создание симуляции с автоматическим рендерингом изображения\n",
    "env = gym.make('Taxi-v3', render_mode = 'human', max_episode_steps=50)\n",
    "# добавление обёртки\n",
    "env = gym.wrappers.RecordEpisodeStatistics(env)\n",
    "\n",
    "state, _ = env.reset()\n",
    "episode_over = False\n",
    "\n",
    "while not episode_over:\n",
    "    action = env.action_space.sample()\n",
    "    state, reward, terminated, truncated, info = env.step(action)\n",
    "\n",
    "    episode_over = terminated or truncated\n",
    "    \n",
    "print(\"Доход:\", env.return_queue)\n",
    "env.close()"
   ]
  },
  {
   "cell_type": "markdown",
   "id": "1b4807ca",
   "metadata": {},
   "source": [
    "Цель агента в том, чтобы, управляя такси, подобрать пассажира и довезти его до места назначения."
   ]
  },
  {
   "cell_type": "markdown",
   "id": "067b3318",
   "metadata": {},
   "source": [
    "### Среда MountainCar\n",
    "\n",
    "Рассмотрим среду с непрерывным пространством состояний."
   ]
  },
  {
   "cell_type": "code",
   "execution_count": 8,
   "id": "89f1c1af",
   "metadata": {},
   "outputs": [
    {
     "name": "stdout",
     "output_type": "stream",
     "text": [
      "Начальное состояние: [-0.49531594  0.        ]\n",
      "Количество действий: 3\n",
      "Пространство состояний: Box([-1.2  -0.07], [0.6  0.07], (2,), float32)\n",
      "Пространство действий: Discrete(3)\n"
     ]
    }
   ],
   "source": [
    "# создание экземпляра среды\n",
    "env = gym.make('MountainCar-v0')\n",
    "\n",
    "# обнуление среды и получение начального состояния\n",
    "state, _ = env.reset()\n",
    "print(\"Начальное состояние:\", state)\n",
    "\n",
    "# возможные действия\n",
    "print(\"Количество действий:\", env.action_space.n)\n",
    "\n",
    "# выведем описания пространств состояний и действий\n",
    "print(\"Пространство состояний:\", env.observation_space)\n",
    "print(\"Пространство действий:\", env.action_space)"
   ]
  },
  {
   "cell_type": "markdown",
   "id": "c5492d67",
   "metadata": {},
   "source": [
    "Для этой среды пространство состояний имеет вид `Box([-1.2  -0.07], [0.6  0.07], (2,), float32)`. \n",
    "Третий аргумент `(2,)` указывает на то, сколько параметров задают состояние. В данном случае их два. А первые два аргумента отвечают за интервалы, в которых эти параметры могут непрерывно изменяться. Более подробно, первые координаты у списков `[-1.2  -0.07], [0.6  0.07]` указывают интервал `[-1.2, 0.6]`, где может меняться первый параметр состояния, и аналогичным образом в интервале `[-0.07, 0.07]` изменяется второй параметр."
   ]
  },
  {
   "cell_type": "code",
   "execution_count": 10,
   "id": "9c85b817-0447-4685-8a23-173795b5d0be",
   "metadata": {},
   "outputs": [
    {
     "name": "stdout",
     "output_type": "stream",
     "text": [
      "Доход: deque([-200.0], maxlen=100)\n"
     ]
    }
   ],
   "source": [
    "# создание симуляции с автоматическим рендерингом изображения\n",
    "env = gym.make('MountainCar-v0', render_mode = 'human')\n",
    "env = gym.wrappers.RecordEpisodeStatistics(env)\n",
    "state, _ = env.reset()\n",
    "episode_over = False\n",
    "\n",
    "while not episode_over:\n",
    "    action = env.action_space.sample()\n",
    "    state, reward, terminated, truncated, info = env.step(action)\n",
    "\n",
    "    episode_over = terminated or truncated\n",
    "    \n",
    "print(\"Доход:\", env.return_queue)\n",
    "env.close()"
   ]
  },
  {
   "cell_type": "markdown",
   "id": "92135e95-2528-45da-8a05-c2eea30d671a",
   "metadata": {},
   "source": [
    "Цель агента в том, чтобы втолкнуть машину на вершину холма справа."
   ]
  },
  {
   "cell_type": "markdown",
   "id": "aefbb96d",
   "metadata": {},
   "source": [
    "### Среда CartPole\n",
    "\n",
    "Рассмотрим ещё одну среду с задачей удержания маятника с непрерывным пространством состояний."
   ]
  },
  {
   "cell_type": "code",
   "execution_count": 11,
   "id": "6cbb4da1",
   "metadata": {},
   "outputs": [
    {
     "name": "stdout",
     "output_type": "stream",
     "text": [
      "Количество действий: 2\n",
      "Пространство состояний: Box([-4.8               -inf -0.41887903        -inf], [4.8               inf 0.41887903        inf], (4,), float32)\n",
      "Пространство действий: Discrete(2)\n"
     ]
    }
   ],
   "source": [
    "# создание экземпляра среды\n",
    "env = gym.make('CartPole-v1')\n",
    "\n",
    "# обнуление среды и получение начального состояния\n",
    "state, _ = env.reset()\n",
    "\n",
    "# возможные действия\n",
    "print(\"Количество действий:\", env.action_space.n)\n",
    "\n",
    "# выведем описания пространств состояний и действий\n",
    "print(\"Пространство состояний:\", env.observation_space)\n",
    "print(\"Пространство действий:\", env.action_space)"
   ]
  },
  {
   "cell_type": "markdown",
   "id": "0a96fa2e",
   "metadata": {},
   "source": [
    "У этой среды пространство состояний задаётся 4 параметрами."
   ]
  },
  {
   "cell_type": "code",
   "execution_count": 13,
   "id": "d3b35377-fd20-4e2f-b7db-8dfe36d355c8",
   "metadata": {},
   "outputs": [
    {
     "name": "stdout",
     "output_type": "stream",
     "text": [
      "Доход: deque([13.0], maxlen=100)\n"
     ]
    }
   ],
   "source": [
    "# создание симуляции с автоматическим рендерингом изображения\n",
    "env = gym.make('CartPole-v1', render_mode = 'human')\n",
    "env = gym.wrappers.RecordEpisodeStatistics(env)\n",
    "state, _ = env.reset()\n",
    "episode_over = False\n",
    "\n",
    "while not episode_over:\n",
    "    action = env.action_space.sample()\n",
    "    state, reward, terminated, truncated, info = env.step(action)\n",
    "\n",
    "    episode_over = terminated or truncated\n",
    "    \n",
    "print(\"Доход:\", env.return_queue)\n",
    "env.close()"
   ]
  },
  {
   "cell_type": "markdown",
   "id": "ed7367aa",
   "metadata": {},
   "source": [
    "Цель агента в том, чтобы удерживать маятник длительное время в вертикальном положении, управляя тележкой."
   ]
  },
  {
   "cell_type": "markdown",
   "id": "ff9fcb03",
   "metadata": {},
   "source": [
    "### Среда LunarLander\n",
    "\n",
    "Ещё одна среда с непрерывным пространством состояний о посадке лунного модуля.\n",
    "\n",
    "Для рендеринга среды потребуется установить дополнительные библиотеки\n",
    "\n",
    "    pip install swig\n",
    "    pip install gymnasium[box2d]\n",
    "    \n",
    "Также при установке библиотеки `swig`, потребуется установить Microsoft C++ Build Tools \n",
    "\n",
    "(см. подробнее https://www.youtube.com/watch?v=gMgj4pSHLww, в этом же видео можно найти настройки работы с библиотекой `gymnasium` в Visual Studio)."
   ]
  },
  {
   "cell_type": "code",
   "execution_count": 14,
   "id": "67d8d84d",
   "metadata": {},
   "outputs": [
    {
     "name": "stdout",
     "output_type": "stream",
     "text": [
      "Начальное состояние: [ 0.0066575   1.3988068   0.67431515 -0.5383847  -0.00770757 -0.15274248\n",
      "  0.          0.        ]\n",
      "Количество действий: 4\n",
      "Пространство состояний: Box([ -2.5        -2.5       -10.        -10.         -6.2831855 -10.\n",
      "  -0.         -0.       ], [ 2.5        2.5       10.        10.         6.2831855 10.\n",
      "  1.         1.       ], (8,), float32)\n",
      "Пространство действий: Discrete(4)\n"
     ]
    }
   ],
   "source": [
    "# создание экземпляра среды\n",
    "env = gym.make('LunarLander-v3')\n",
    "\n",
    "# обнуление среды и получение начального состояния\n",
    "state, _ = env.reset()\n",
    "print(\"Начальное состояние:\", state)\n",
    "\n",
    "# возможные действия\n",
    "print(\"Количество действий:\", env.action_space.n)\n",
    "\n",
    "# выведем описания пространств состояний и действий\n",
    "print(\"Пространство состояний:\", env.observation_space)\n",
    "print(\"Пространство действий:\", env.action_space)"
   ]
  },
  {
   "cell_type": "markdown",
   "id": "022ebcc9",
   "metadata": {},
   "source": [
    "У этой среды пространство состояний задаётся 8 параметрами."
   ]
  },
  {
   "cell_type": "code",
   "execution_count": 15,
   "id": "a2bf987a-3474-4fca-83b0-fa23e9749275",
   "metadata": {},
   "outputs": [
    {
     "name": "stdout",
     "output_type": "stream",
     "text": [
      "Доход: deque([-250.8857306778413], maxlen=100)\n"
     ]
    }
   ],
   "source": [
    "# создание симуляции с автоматическим рендерингом изображения\n",
    "env = gym.make('LunarLander-v3', render_mode = 'human')\n",
    "env = gym.wrappers.RecordEpisodeStatistics(env)\n",
    "state, _ = env.reset()\n",
    "episode_over = False\n",
    "\n",
    "while not episode_over:\n",
    "    action = env.action_space.sample()\n",
    "    state, reward, terminated, truncated, info = env.step(action)\n",
    "\n",
    "    episode_over = terminated or truncated\n",
    "    \n",
    "print(\"Доход:\", env.return_queue)\n",
    "env.close()"
   ]
  },
  {
   "cell_type": "markdown",
   "id": "5c1588c6",
   "metadata": {},
   "source": [
    "Цель агента в том, чтобы аккуратно посадить лунный модуль."
   ]
  },
  {
   "cell_type": "markdown",
   "id": "6ed18a47-92c4-4019-8a55-77a40356d32e",
   "metadata": {},
   "source": [
    "### Среды с моделированием движущихся механических объектов MuJoCo\n",
    "\n",
    "Для запуска этих сред потребуется библиотека `mujoco` \n",
    "\n",
    "    pip install gymnasium[mujoco]"
   ]
  },
  {
   "cell_type": "code",
   "execution_count": 1,
   "id": "70925241-4e4c-44ba-9544-1496a2cf5bd8",
   "metadata": {},
   "outputs": [
    {
     "name": "stdout",
     "output_type": "stream",
     "text": [
      "mujoco version: 3.2.7\n"
     ]
    }
   ],
   "source": [
    "import mujoco\n",
    "print(\"mujoco version:\", mujoco.__version__)"
   ]
  },
  {
   "cell_type": "code",
   "execution_count": 20,
   "id": "e1644e3b-2d44-40f7-aebf-5bfacf677af2",
   "metadata": {},
   "outputs": [
    {
     "name": "stdout",
     "output_type": "stream",
     "text": [
      "Пространство состояний: Box(-inf, inf, (376,), float64)\n",
      "Пространство действий: Box(-0.4, 0.4, (17,), float32)\n"
     ]
    }
   ],
   "source": [
    "# создание экземпляра среды\n",
    "env = gym.make('Humanoid-v5')\n",
    "\n",
    "# обнуление среды \n",
    "state, _ = env.reset()\n",
    "\n",
    "# выведем описания пространств состояний и действий\n",
    "print(\"Пространство состояний:\", env.observation_space)\n",
    "print(\"Пространство действий:\", env.action_space)"
   ]
  },
  {
   "cell_type": "markdown",
   "id": "1e2af07a-7b90-484c-ab77-bfbece25b1a1",
   "metadata": {},
   "source": [
    "Запустим симуляцию этой среды со случайными действиями."
   ]
  },
  {
   "cell_type": "code",
   "execution_count": 18,
   "id": "7c381492-fd26-4bd5-b31c-db4fcc3faf6f",
   "metadata": {},
   "outputs": [
    {
     "name": "stdout",
     "output_type": "stream",
     "text": [
      "Доход: deque([110.20598952446541], maxlen=100)\n"
     ]
    }
   ],
   "source": [
    "# создание симуляции с автоматическим рендерингом изображения\n",
    "env = gym.make('Humanoid-v5', render_mode = 'human')\n",
    "env = gym.wrappers.RecordEpisodeStatistics(env)\n",
    "state, _ = env.reset()\n",
    "episode_over = False\n",
    "\n",
    "while not episode_over:\n",
    "    action = env.action_space.sample()\n",
    "    state, reward, terminated, truncated, info = env.step(action)\n",
    "\n",
    "    episode_over = terminated or truncated\n",
    "    \n",
    "print(\"Доход:\", env.return_queue)\n",
    "env.close()"
   ]
  },
  {
   "cell_type": "markdown",
   "id": "950dbdf2",
   "metadata": {},
   "source": [
    "### Среды с играми от Atari\n",
    "\n",
    "Для запуска игр от Atari потребуется установить дополнительные библиотеки\n",
    "\n",
    "    pip install ale-py\n",
    "\n",
    "Состояния среды в играх от Atari представляют собой скрины изображения экрана с игрой.\n",
    "\n",
    "Рассмотрим, например, среду с игрой Breakout."
   ]
  },
  {
   "cell_type": "code",
   "execution_count": 19,
   "id": "d77aae4e",
   "metadata": {},
   "outputs": [
    {
     "name": "stdout",
     "output_type": "stream",
     "text": [
      "Начальное состояние:\n",
      "Количество действий: 4\n",
      "Пространство состояний: Box(0, 255, (210, 160, 3), uint8)\n",
      "Пространство действий: Discrete(4)\n"
     ]
    },
    {
     "data": {
      "image/png": "[encoded data removed]",
      "text/plain": [
       "<Figure size 640x480 with 1 Axes>"
      ]
     },
     "metadata": {},
     "output_type": "display_data"
    }
   ],
   "source": [
    "import gymnasium as gym\n",
    "from matplotlib import pyplot as plt\n",
    "import ale_py\n",
    "\n",
    "# регистрируем среды в gym\n",
    "gym.register_envs(ale_py)\n",
    "\n",
    "# создание экземпляра среды\n",
    "env = gym.make(\"ALE/Breakout-v5\")\n",
    "\n",
    "# обнуление среды и получение начального состояния\n",
    "state, _ = env.reset()\n",
    "print(\"Начальное состояние:\")\n",
    "plt.imshow(state)\n",
    "\n",
    "# возможные действия\n",
    "print(\"Количество действий:\", env.action_space.n)\n",
    "\n",
    "# выведем описания пространств состояний и действий\n",
    "print(\"Пространство состояний:\", env.observation_space)\n",
    "print(\"Пространство действий:\", env.action_space)"
   ]
  },
  {
   "cell_type": "markdown",
   "id": "47804a76",
   "metadata": {},
   "source": [
    "У этой среды пространство состояний является изображением размера $210*160*3$, пиксели принимают значения от 0 до 255."
   ]
  },
  {
   "cell_type": "code",
   "execution_count": 25,
   "id": "e7214adb-8e36-42d9-8934-6a5f09602f30",
   "metadata": {},
   "outputs": [
    {
     "name": "stdout",
     "output_type": "stream",
     "text": [
      "Доход: deque([310.0], maxlen=100)\n"
     ]
    }
   ],
   "source": [
    "# создание симуляции с автоматическим рендерингом изображения\n",
    "#env = gym.make(\"ALE/Breakout-v5\", render_mode = 'human')\n",
    "#env = gym.make(\"ALE/Pong-v5\", render_mode=\"human\")\n",
    "env = gym.make(\"ALE/MsPacman-v5\", render_mode=\"human\")\n",
    "env = gym.wrappers.RecordEpisodeStatistics(env)\n",
    "state, _ = env.reset()\n",
    "episode_over = False\n",
    "\n",
    "while not episode_over:\n",
    "    action = env.action_space.sample()\n",
    "    state, reward, terminated, truncated, info = env.step(action)\n",
    "\n",
    "    episode_over = terminated or truncated\n",
    "    \n",
    "print(\"Доход:\", env.return_queue)\n",
    "env.close()"
   ]
  },
  {
   "cell_type": "markdown",
   "id": "0c018eee-7e2b-4a17-a525-3aea6f50754e",
   "metadata": {},
   "source": [
    "Для сред, моделирующих игры от Atari, возникает ошибка с закрытием окна, в котором рендерится изображение. Причём вручную его можно закрыть только с ошибкой и перезапуском ядра. \n",
    "\n",
    "Для закрытия этого окошка без ошибки можно использовать код ниже."
   ]
  },
  {
   "cell_type": "code",
   "execution_count": 26,
   "id": "d3411e6d-621d-4b67-82c6-b4f90d26a098",
   "metadata": {},
   "outputs": [
    {
     "data": {
      "text/plain": [
       "<OrderEnforcing<PassiveEnvChecker<AtariEnv<ALE/Breakout-v5>>>>"
      ]
     },
     "execution_count": 26,
     "metadata": {},
     "output_type": "execute_result"
    }
   ],
   "source": [
    "env = gym.make(\"ALE/Breakout-v5\", render_mode = 'human')\n",
    "env.close()\n",
    "env"
   ]
  },
  {
   "cell_type": "markdown",
   "id": "9935c962-9168-483b-b1cb-24c1a75f5fcc",
   "metadata": {},
   "source": [
    "Список всех доступных сред можно вывести командой `print(gym.envs.registry.keys())`."
   ]
  },
  {
   "cell_type": "code",
   "execution_count": 4,
   "id": "e8bf5dc6",
   "metadata": {},
   "outputs": [
    {
     "name": "stdout",
     "output_type": "stream",
     "text": [
      "dict_keys(['CartPole-v0', 'CartPole-v1', 'MountainCar-v0', 'MountainCarContinuous-v0', 'Pendulum-v1', 'Acrobot-v1', 'phys2d/CartPole-v0', 'phys2d/CartPole-v1', 'phys2d/Pendulum-v0', 'LunarLander-v3', 'LunarLanderContinuous-v3', 'BipedalWalker-v3', 'BipedalWalkerHardcore-v3', 'CarRacing-v3', 'Blackjack-v1', 'FrozenLake-v1', 'FrozenLake8x8-v1', 'CliffWalking-v0', 'Taxi-v3', 'tabular/Blackjack-v0', 'tabular/CliffWalking-v0', 'Reacher-v2', 'Reacher-v4', 'Reacher-v5', 'Pusher-v2', 'Pusher-v4', 'Pusher-v5', 'InvertedPendulum-v2', 'InvertedPendulum-v4', 'InvertedPendulum-v5', 'InvertedDoublePendulum-v2', 'InvertedDoublePendulum-v4', 'InvertedDoublePendulum-v5', 'HalfCheetah-v2', 'HalfCheetah-v3', 'HalfCheetah-v4', 'HalfCheetah-v5', 'Hopper-v2', 'Hopper-v3', 'Hopper-v4', 'Hopper-v5', 'Swimmer-v2', 'Swimmer-v3', 'Swimmer-v4', 'Swimmer-v5', 'Walker2d-v2', 'Walker2d-v3', 'Walker2d-v4', 'Walker2d-v5', 'Ant-v2', 'Ant-v3', 'Ant-v4', 'Ant-v5', 'Humanoid-v2', 'Humanoid-v3', 'Humanoid-v4', 'Humanoid-v5', 'HumanoidStandup-v2', 'HumanoidStandup-v4', 'HumanoidStandup-v5', 'GymV21Environment-v0', 'GymV26Environment-v0', 'Adventure-v0', 'AdventureDeterministic-v0', 'AdventureNoFrameskip-v0', 'Adventure-v4', 'AdventureDeterministic-v4', 'AdventureNoFrameskip-v4', 'Adventure-ram-v0', 'Adventure-ramDeterministic-v0', 'Adventure-ramNoFrameskip-v0', 'Adventure-ram-v4', 'Adventure-ramDeterministic-v4', 'Adventure-ramNoFrameskip-v4', 'AirRaid-v0', 'AirRaidDeterministic-v0', 'AirRaidNoFrameskip-v0', 'AirRaid-v4', 'AirRaidDeterministic-v4', 'AirRaidNoFrameskip-v4', 'AirRaid-ram-v0', 'AirRaid-ramDeterministic-v0', 'AirRaid-ramNoFrameskip-v0', 'AirRaid-ram-v4', 'AirRaid-ramDeterministic-v4', 'AirRaid-ramNoFrameskip-v4', 'Alien-v0', 'AlienDeterministic-v0', 'AlienNoFrameskip-v0', 'Alien-v4', 'AlienDeterministic-v4', 'AlienNoFrameskip-v4', 'Alien-ram-v0', 'Alien-ramDeterministic-v0', 'Alien-ramNoFrameskip-v0', 'Alien-ram-v4', 'Alien-ramDeterministic-v4', 'Alien-ramNoFrameskip-v4', 'Amidar-v0', 'AmidarDeterministic-v0', 'AmidarNoFrameskip-v0', 'Amidar-v4', 'AmidarDeterministic-v4', 'AmidarNoFrameskip-v4', 'Amidar-ram-v0', 'Amidar-ramDeterministic-v0', 'Amidar-ramNoFrameskip-v0', 'Amidar-ram-v4', 'Amidar-ramDeterministic-v4', 'Amidar-ramNoFrameskip-v4', 'Assault-v0', 'AssaultDeterministic-v0', 'AssaultNoFrameskip-v0', 'Assault-v4', 'AssaultDeterministic-v4', 'AssaultNoFrameskip-v4', 'Assault-ram-v0', 'Assault-ramDeterministic-v0', 'Assault-ramNoFrameskip-v0', 'Assault-ram-v4', 'Assault-ramDeterministic-v4', 'Assault-ramNoFrameskip-v4', 'Asterix-v0', 'AsterixDeterministic-v0', 'AsterixNoFrameskip-v0', 'Asterix-v4', 'AsterixDeterministic-v4', 'AsterixNoFrameskip-v4', 'Asterix-ram-v0', 'Asterix-ramDeterministic-v0', 'Asterix-ramNoFrameskip-v0', 'Asterix-ram-v4', 'Asterix-ramDeterministic-v4', 'Asterix-ramNoFrameskip-v4', 'Asteroids-v0', 'AsteroidsDeterministic-v0', 'AsteroidsNoFrameskip-v0', 'Asteroids-v4', 'AsteroidsDeterministic-v4', 'AsteroidsNoFrameskip-v4', 'Asteroids-ram-v0', 'Asteroids-ramDeterministic-v0', 'Asteroids-ramNoFrameskip-v0', 'Asteroids-ram-v4', 'Asteroids-ramDeterministic-v4', 'Asteroids-ramNoFrameskip-v4', 'Atlantis-v0', 'AtlantisDeterministic-v0', 'AtlantisNoFrameskip-v0', 'Atlantis-v4', 'AtlantisDeterministic-v4', 'AtlantisNoFrameskip-v4', 'Atlantis-ram-v0', 'Atlantis-ramDeterministic-v0', 'Atlantis-ramNoFrameskip-v0', 'Atlantis-ram-v4', 'Atlantis-ramDeterministic-v4', 'Atlantis-ramNoFrameskip-v4', 'BankHeist-v0', 'BankHeistDeterministic-v0', 'BankHeistNoFrameskip-v0', 'BankHeist-v4', 'BankHeistDeterministic-v4', 'BankHeistNoFrameskip-v4', 'BankHeist-ram-v0', 'BankHeist-ramDeterministic-v0', 'BankHeist-ramNoFrameskip-v0', 'BankHeist-ram-v4', 'BankHeist-ramDeterministic-v4', 'BankHeist-ramNoFrameskip-v4', 'BattleZone-v0', 'BattleZoneDeterministic-v0', 'BattleZoneNoFrameskip-v0', 'BattleZone-v4', 'BattleZoneDeterministic-v4', 'BattleZoneNoFrameskip-v4', 'BattleZone-ram-v0', 'BattleZone-ramDeterministic-v0', 'BattleZone-ramNoFrameskip-v0', 'BattleZone-ram-v4', 'BattleZone-ramDeterministic-v4', 'BattleZone-ramNoFrameskip-v4', 'BeamRider-v0', 'BeamRiderDeterministic-v0', 'BeamRiderNoFrameskip-v0', 'BeamRider-v4', 'BeamRiderDeterministic-v4', 'BeamRiderNoFrameskip-v4', 'BeamRider-ram-v0', 'BeamRider-ramDeterministic-v0', 'BeamRider-ramNoFrameskip-v0', 'BeamRider-ram-v4', 'BeamRider-ramDeterministic-v4', 'BeamRider-ramNoFrameskip-v4', 'Berzerk-v0', 'BerzerkDeterministic-v0', 'BerzerkNoFrameskip-v0', 'Berzerk-v4', 'BerzerkDeterministic-v4', 'BerzerkNoFrameskip-v4', 'Berzerk-ram-v0', 'Berzerk-ramDeterministic-v0', 'Berzerk-ramNoFrameskip-v0', 'Berzerk-ram-v4', 'Berzerk-ramDeterministic-v4', 'Berzerk-ramNoFrameskip-v4', 'Bowling-v0', 'BowlingDeterministic-v0', 'BowlingNoFrameskip-v0', 'Bowling-v4', 'BowlingDeterministic-v4', 'BowlingNoFrameskip-v4', 'Bowling-ram-v0', 'Bowling-ramDeterministic-v0', 'Bowling-ramNoFrameskip-v0', 'Bowling-ram-v4', 'Bowling-ramDeterministic-v4', 'Bowling-ramNoFrameskip-v4', 'Boxing-v0', 'BoxingDeterministic-v0', 'BoxingNoFrameskip-v0', 'Boxing-v4', 'BoxingDeterministic-v4', 'BoxingNoFrameskip-v4', 'Boxing-ram-v0', 'Boxing-ramDeterministic-v0', 'Boxing-ramNoFrameskip-v0', 'Boxing-ram-v4', 'Boxing-ramDeterministic-v4', 'Boxing-ramNoFrameskip-v4', 'Breakout-v0', 'BreakoutDeterministic-v0', 'BreakoutNoFrameskip-v0', 'Breakout-v4', 'BreakoutDeterministic-v4', 'BreakoutNoFrameskip-v4', 'Breakout-ram-v0', 'Breakout-ramDeterministic-v0', 'Breakout-ramNoFrameskip-v0', 'Breakout-ram-v4', 'Breakout-ramDeterministic-v4', 'Breakout-ramNoFrameskip-v4', 'Carnival-v0', 'CarnivalDeterministic-v0', 'CarnivalNoFrameskip-v0', 'Carnival-v4', 'CarnivalDeterministic-v4', 'CarnivalNoFrameskip-v4', 'Carnival-ram-v0', 'Carnival-ramDeterministic-v0', 'Carnival-ramNoFrameskip-v0', 'Carnival-ram-v4', 'Carnival-ramDeterministic-v4', 'Carnival-ramNoFrameskip-v4', 'Centipede-v0', 'CentipedeDeterministic-v0', 'CentipedeNoFrameskip-v0', 'Centipede-v4', 'CentipedeDeterministic-v4', 'CentipedeNoFrameskip-v4', 'Centipede-ram-v0', 'Centipede-ramDeterministic-v0', 'Centipede-ramNoFrameskip-v0', 'Centipede-ram-v4', 'Centipede-ramDeterministic-v4', 'Centipede-ramNoFrameskip-v4', 'ChopperCommand-v0', 'ChopperCommandDeterministic-v0', 'ChopperCommandNoFrameskip-v0', 'ChopperCommand-v4', 'ChopperCommandDeterministic-v4', 'ChopperCommandNoFrameskip-v4', 'ChopperCommand-ram-v0', 'ChopperCommand-ramDeterministic-v0', 'ChopperCommand-ramNoFrameskip-v0', 'ChopperCommand-ram-v4', 'ChopperCommand-ramDeterministic-v4', 'ChopperCommand-ramNoFrameskip-v4', 'CrazyClimber-v0', 'CrazyClimberDeterministic-v0', 'CrazyClimberNoFrameskip-v0', 'CrazyClimber-v4', 'CrazyClimberDeterministic-v4', 'CrazyClimberNoFrameskip-v4', 'CrazyClimber-ram-v0', 'CrazyClimber-ramDeterministic-v0', 'CrazyClimber-ramNoFrameskip-v0', 'CrazyClimber-ram-v4', 'CrazyClimber-ramDeterministic-v4', 'CrazyClimber-ramNoFrameskip-v4', 'Defender-v0', 'DefenderDeterministic-v0', 'DefenderNoFrameskip-v0', 'Defender-v4', 'DefenderDeterministic-v4', 'DefenderNoFrameskip-v4', 'Defender-ram-v0', 'Defender-ramDeterministic-v0', 'Defender-ramNoFrameskip-v0', 'Defender-ram-v4', 'Defender-ramDeterministic-v4', 'Defender-ramNoFrameskip-v4', 'DemonAttack-v0', 'DemonAttackDeterministic-v0', 'DemonAttackNoFrameskip-v0', 'DemonAttack-v4', 'DemonAttackDeterministic-v4', 'DemonAttackNoFrameskip-v4', 'DemonAttack-ram-v0', 'DemonAttack-ramDeterministic-v0', 'DemonAttack-ramNoFrameskip-v0', 'DemonAttack-ram-v4', 'DemonAttack-ramDeterministic-v4', 'DemonAttack-ramNoFrameskip-v4', 'DoubleDunk-v0', 'DoubleDunkDeterministic-v0', 'DoubleDunkNoFrameskip-v0', 'DoubleDunk-v4', 'DoubleDunkDeterministic-v4', 'DoubleDunkNoFrameskip-v4', 'DoubleDunk-ram-v0', 'DoubleDunk-ramDeterministic-v0', 'DoubleDunk-ramNoFrameskip-v0', 'DoubleDunk-ram-v4', 'DoubleDunk-ramDeterministic-v4', 'DoubleDunk-ramNoFrameskip-v4', 'ElevatorAction-v0', 'ElevatorActionDeterministic-v0', 'ElevatorActionNoFrameskip-v0', 'ElevatorAction-v4', 'ElevatorActionDeterministic-v4', 'ElevatorActionNoFrameskip-v4', 'ElevatorAction-ram-v0', 'ElevatorAction-ramDeterministic-v0', 'ElevatorAction-ramNoFrameskip-v0', 'ElevatorAction-ram-v4', 'ElevatorAction-ramDeterministic-v4', 'ElevatorAction-ramNoFrameskip-v4', 'Enduro-v0', 'EnduroDeterministic-v0', 'EnduroNoFrameskip-v0', 'Enduro-v4', 'EnduroDeterministic-v4', 'EnduroNoFrameskip-v4', 'Enduro-ram-v0', 'Enduro-ramDeterministic-v0', 'Enduro-ramNoFrameskip-v0', 'Enduro-ram-v4', 'Enduro-ramDeterministic-v4', 'Enduro-ramNoFrameskip-v4', 'FishingDerby-v0', 'FishingDerbyDeterministic-v0', 'FishingDerbyNoFrameskip-v0', 'FishingDerby-v4', 'FishingDerbyDeterministic-v4', 'FishingDerbyNoFrameskip-v4', 'FishingDerby-ram-v0', 'FishingDerby-ramDeterministic-v0', 'FishingDerby-ramNoFrameskip-v0', 'FishingDerby-ram-v4', 'FishingDerby-ramDeterministic-v4', 'FishingDerby-ramNoFrameskip-v4', 'Freeway-v0', 'FreewayDeterministic-v0', 'FreewayNoFrameskip-v0', 'Freeway-v4', 'FreewayDeterministic-v4', 'FreewayNoFrameskip-v4', 'Freeway-ram-v0', 'Freeway-ramDeterministic-v0', 'Freeway-ramNoFrameskip-v0', 'Freeway-ram-v4', 'Freeway-ramDeterministic-v4', 'Freeway-ramNoFrameskip-v4', 'Frostbite-v0', 'FrostbiteDeterministic-v0', 'FrostbiteNoFrameskip-v0', 'Frostbite-v4', 'FrostbiteDeterministic-v4', 'FrostbiteNoFrameskip-v4', 'Frostbite-ram-v0', 'Frostbite-ramDeterministic-v0', 'Frostbite-ramNoFrameskip-v0', 'Frostbite-ram-v4', 'Frostbite-ramDeterministic-v4', 'Frostbite-ramNoFrameskip-v4', 'Gopher-v0', 'GopherDeterministic-v0', 'GopherNoFrameskip-v0', 'Gopher-v4', 'GopherDeterministic-v4', 'GopherNoFrameskip-v4', 'Gopher-ram-v0', 'Gopher-ramDeterministic-v0', 'Gopher-ramNoFrameskip-v0', 'Gopher-ram-v4', 'Gopher-ramDeterministic-v4', 'Gopher-ramNoFrameskip-v4', 'Gravitar-v0', 'GravitarDeterministic-v0', 'GravitarNoFrameskip-v0', 'Gravitar-v4', 'GravitarDeterministic-v4', 'GravitarNoFrameskip-v4', 'Gravitar-ram-v0', 'Gravitar-ramDeterministic-v0', 'Gravitar-ramNoFrameskip-v0', 'Gravitar-ram-v4', 'Gravitar-ramDeterministic-v4', 'Gravitar-ramNoFrameskip-v4', 'Hero-v0', 'HeroDeterministic-v0', 'HeroNoFrameskip-v0', 'Hero-v4', 'HeroDeterministic-v4', 'HeroNoFrameskip-v4', 'Hero-ram-v0', 'Hero-ramDeterministic-v0', 'Hero-ramNoFrameskip-v0', 'Hero-ram-v4', 'Hero-ramDeterministic-v4', 'Hero-ramNoFrameskip-v4', 'IceHockey-v0', 'IceHockeyDeterministic-v0', 'IceHockeyNoFrameskip-v0', 'IceHockey-v4', 'IceHockeyDeterministic-v4', 'IceHockeyNoFrameskip-v4', 'IceHockey-ram-v0', 'IceHockey-ramDeterministic-v0', 'IceHockey-ramNoFrameskip-v0', 'IceHockey-ram-v4', 'IceHockey-ramDeterministic-v4', 'IceHockey-ramNoFrameskip-v4', 'Jamesbond-v0', 'JamesbondDeterministic-v0', 'JamesbondNoFrameskip-v0', 'Jamesbond-v4', 'JamesbondDeterministic-v4', 'JamesbondNoFrameskip-v4', 'Jamesbond-ram-v0', 'Jamesbond-ramDeterministic-v0', 'Jamesbond-ramNoFrameskip-v0', 'Jamesbond-ram-v4', 'Jamesbond-ramDeterministic-v4', 'Jamesbond-ramNoFrameskip-v4', 'JourneyEscape-v0', 'JourneyEscapeDeterministic-v0', 'JourneyEscapeNoFrameskip-v0', 'JourneyEscape-v4', 'JourneyEscapeDeterministic-v4', 'JourneyEscapeNoFrameskip-v4', 'JourneyEscape-ram-v0', 'JourneyEscape-ramDeterministic-v0', 'JourneyEscape-ramNoFrameskip-v0', 'JourneyEscape-ram-v4', 'JourneyEscape-ramDeterministic-v4', 'JourneyEscape-ramNoFrameskip-v4', 'Kangaroo-v0', 'KangarooDeterministic-v0', 'KangarooNoFrameskip-v0', 'Kangaroo-v4', 'KangarooDeterministic-v4', 'KangarooNoFrameskip-v4', 'Kangaroo-ram-v0', 'Kangaroo-ramDeterministic-v0', 'Kangaroo-ramNoFrameskip-v0', 'Kangaroo-ram-v4', 'Kangaroo-ramDeterministic-v4', 'Kangaroo-ramNoFrameskip-v4', 'Krull-v0', 'KrullDeterministic-v0', 'KrullNoFrameskip-v0', 'Krull-v4', 'KrullDeterministic-v4', 'KrullNoFrameskip-v4', 'Krull-ram-v0', 'Krull-ramDeterministic-v0', 'Krull-ramNoFrameskip-v0', 'Krull-ram-v4', 'Krull-ramDeterministic-v4', 'Krull-ramNoFrameskip-v4', 'KungFuMaster-v0', 'KungFuMasterDeterministic-v0', 'KungFuMasterNoFrameskip-v0', 'KungFuMaster-v4', 'KungFuMasterDeterministic-v4', 'KungFuMasterNoFrameskip-v4', 'KungFuMaster-ram-v0', 'KungFuMaster-ramDeterministic-v0', 'KungFuMaster-ramNoFrameskip-v0', 'KungFuMaster-ram-v4', 'KungFuMaster-ramDeterministic-v4', 'KungFuMaster-ramNoFrameskip-v4', 'MontezumaRevenge-v0', 'MontezumaRevengeDeterministic-v0', 'MontezumaRevengeNoFrameskip-v0', 'MontezumaRevenge-v4', 'MontezumaRevengeDeterministic-v4', 'MontezumaRevengeNoFrameskip-v4', 'MontezumaRevenge-ram-v0', 'MontezumaRevenge-ramDeterministic-v0', 'MontezumaRevenge-ramNoFrameskip-v0', 'MontezumaRevenge-ram-v4', 'MontezumaRevenge-ramDeterministic-v4', 'MontezumaRevenge-ramNoFrameskip-v4', 'MsPacman-v0', 'MsPacmanDeterministic-v0', 'MsPacmanNoFrameskip-v0', 'MsPacman-v4', 'MsPacmanDeterministic-v4', 'MsPacmanNoFrameskip-v4', 'MsPacman-ram-v0', 'MsPacman-ramDeterministic-v0', 'MsPacman-ramNoFrameskip-v0', 'MsPacman-ram-v4', 'MsPacman-ramDeterministic-v4', 'MsPacman-ramNoFrameskip-v4', 'NameThisGame-v0', 'NameThisGameDeterministic-v0', 'NameThisGameNoFrameskip-v0', 'NameThisGame-v4', 'NameThisGameDeterministic-v4', 'NameThisGameNoFrameskip-v4', 'NameThisGame-ram-v0', 'NameThisGame-ramDeterministic-v0', 'NameThisGame-ramNoFrameskip-v0', 'NameThisGame-ram-v4', 'NameThisGame-ramDeterministic-v4', 'NameThisGame-ramNoFrameskip-v4', 'Phoenix-v0', 'PhoenixDeterministic-v0', 'PhoenixNoFrameskip-v0', 'Phoenix-v4', 'PhoenixDeterministic-v4', 'PhoenixNoFrameskip-v4', 'Phoenix-ram-v0', 'Phoenix-ramDeterministic-v0', 'Phoenix-ramNoFrameskip-v0', 'Phoenix-ram-v4', 'Phoenix-ramDeterministic-v4', 'Phoenix-ramNoFrameskip-v4', 'Pitfall-v0', 'PitfallDeterministic-v0', 'PitfallNoFrameskip-v0', 'Pitfall-v4', 'PitfallDeterministic-v4', 'PitfallNoFrameskip-v4', 'Pitfall-ram-v0', 'Pitfall-ramDeterministic-v0', 'Pitfall-ramNoFrameskip-v0', 'Pitfall-ram-v4', 'Pitfall-ramDeterministic-v4', 'Pitfall-ramNoFrameskip-v4', 'Pong-v0', 'PongDeterministic-v0', 'PongNoFrameskip-v0', 'Pong-v4', 'PongDeterministic-v4', 'PongNoFrameskip-v4', 'Pong-ram-v0', 'Pong-ramDeterministic-v0', 'Pong-ramNoFrameskip-v0', 'Pong-ram-v4', 'Pong-ramDeterministic-v4', 'Pong-ramNoFrameskip-v4', 'Pooyan-v0', 'PooyanDeterministic-v0', 'PooyanNoFrameskip-v0', 'Pooyan-v4', 'PooyanDeterministic-v4', 'PooyanNoFrameskip-v4', 'Pooyan-ram-v0', 'Pooyan-ramDeterministic-v0', 'Pooyan-ramNoFrameskip-v0', 'Pooyan-ram-v4', 'Pooyan-ramDeterministic-v4', 'Pooyan-ramNoFrameskip-v4', 'PrivateEye-v0', 'PrivateEyeDeterministic-v0', 'PrivateEyeNoFrameskip-v0', 'PrivateEye-v4', 'PrivateEyeDeterministic-v4', 'PrivateEyeNoFrameskip-v4', 'PrivateEye-ram-v0', 'PrivateEye-ramDeterministic-v0', 'PrivateEye-ramNoFrameskip-v0', 'PrivateEye-ram-v4', 'PrivateEye-ramDeterministic-v4', 'PrivateEye-ramNoFrameskip-v4', 'Qbert-v0', 'QbertDeterministic-v0', 'QbertNoFrameskip-v0', 'Qbert-v4', 'QbertDeterministic-v4', 'QbertNoFrameskip-v4', 'Qbert-ram-v0', 'Qbert-ramDeterministic-v0', 'Qbert-ramNoFrameskip-v0', 'Qbert-ram-v4', 'Qbert-ramDeterministic-v4', 'Qbert-ramNoFrameskip-v4', 'Riverraid-v0', 'RiverraidDeterministic-v0', 'RiverraidNoFrameskip-v0', 'Riverraid-v4', 'RiverraidDeterministic-v4', 'RiverraidNoFrameskip-v4', 'Riverraid-ram-v0', 'Riverraid-ramDeterministic-v0', 'Riverraid-ramNoFrameskip-v0', 'Riverraid-ram-v4', 'Riverraid-ramDeterministic-v4', 'Riverraid-ramNoFrameskip-v4', 'RoadRunner-v0', 'RoadRunnerDeterministic-v0', 'RoadRunnerNoFrameskip-v0', 'RoadRunner-v4', 'RoadRunnerDeterministic-v4', 'RoadRunnerNoFrameskip-v4', 'RoadRunner-ram-v0', 'RoadRunner-ramDeterministic-v0', 'RoadRunner-ramNoFrameskip-v0', 'RoadRunner-ram-v4', 'RoadRunner-ramDeterministic-v4', 'RoadRunner-ramNoFrameskip-v4', 'Robotank-v0', 'RobotankDeterministic-v0', 'RobotankNoFrameskip-v0', 'Robotank-v4', 'RobotankDeterministic-v4', 'RobotankNoFrameskip-v4', 'Robotank-ram-v0', 'Robotank-ramDeterministic-v0', 'Robotank-ramNoFrameskip-v0', 'Robotank-ram-v4', 'Robotank-ramDeterministic-v4', 'Robotank-ramNoFrameskip-v4', 'Seaquest-v0', 'SeaquestDeterministic-v0', 'SeaquestNoFrameskip-v0', 'Seaquest-v4', 'SeaquestDeterministic-v4', 'SeaquestNoFrameskip-v4', 'Seaquest-ram-v0', 'Seaquest-ramDeterministic-v0', 'Seaquest-ramNoFrameskip-v0', 'Seaquest-ram-v4', 'Seaquest-ramDeterministic-v4', 'Seaquest-ramNoFrameskip-v4', 'Skiing-v0', 'SkiingDeterministic-v0', 'SkiingNoFrameskip-v0', 'Skiing-v4', 'SkiingDeterministic-v4', 'SkiingNoFrameskip-v4', 'Skiing-ram-v0', 'Skiing-ramDeterministic-v0', 'Skiing-ramNoFrameskip-v0', 'Skiing-ram-v4', 'Skiing-ramDeterministic-v4', 'Skiing-ramNoFrameskip-v4', 'Solaris-v0', 'SolarisDeterministic-v0', 'SolarisNoFrameskip-v0', 'Solaris-v4', 'SolarisDeterministic-v4', 'SolarisNoFrameskip-v4', 'Solaris-ram-v0', 'Solaris-ramDeterministic-v0', 'Solaris-ramNoFrameskip-v0', 'Solaris-ram-v4', 'Solaris-ramDeterministic-v4', 'Solaris-ramNoFrameskip-v4', 'SpaceInvaders-v0', 'SpaceInvadersDeterministic-v0', 'SpaceInvadersNoFrameskip-v0', 'SpaceInvaders-v4', 'SpaceInvadersDeterministic-v4', 'SpaceInvadersNoFrameskip-v4', 'SpaceInvaders-ram-v0', 'SpaceInvaders-ramDeterministic-v0', 'SpaceInvaders-ramNoFrameskip-v0', 'SpaceInvaders-ram-v4', 'SpaceInvaders-ramDeterministic-v4', 'SpaceInvaders-ramNoFrameskip-v4', 'StarGunner-v0', 'StarGunnerDeterministic-v0', 'StarGunnerNoFrameskip-v0', 'StarGunner-v4', 'StarGunnerDeterministic-v4', 'StarGunnerNoFrameskip-v4', 'StarGunner-ram-v0', 'StarGunner-ramDeterministic-v0', 'StarGunner-ramNoFrameskip-v0', 'StarGunner-ram-v4', 'StarGunner-ramDeterministic-v4', 'StarGunner-ramNoFrameskip-v4', 'Tennis-v0', 'TennisDeterministic-v0', 'TennisNoFrameskip-v0', 'Tennis-v4', 'TennisDeterministic-v4', 'TennisNoFrameskip-v4', 'Tennis-ram-v0', 'Tennis-ramDeterministic-v0', 'Tennis-ramNoFrameskip-v0', 'Tennis-ram-v4', 'Tennis-ramDeterministic-v4', 'Tennis-ramNoFrameskip-v4', 'TimePilot-v0', 'TimePilotDeterministic-v0', 'TimePilotNoFrameskip-v0', 'TimePilot-v4', 'TimePilotDeterministic-v4', 'TimePilotNoFrameskip-v4', 'TimePilot-ram-v0', 'TimePilot-ramDeterministic-v0', 'TimePilot-ramNoFrameskip-v0', 'TimePilot-ram-v4', 'TimePilot-ramDeterministic-v4', 'TimePilot-ramNoFrameskip-v4', 'Tutankham-v0', 'TutankhamDeterministic-v0', 'TutankhamNoFrameskip-v0', 'Tutankham-v4', 'TutankhamDeterministic-v4', 'TutankhamNoFrameskip-v4', 'Tutankham-ram-v0', 'Tutankham-ramDeterministic-v0', 'Tutankham-ramNoFrameskip-v0', 'Tutankham-ram-v4', 'Tutankham-ramDeterministic-v4', 'Tutankham-ramNoFrameskip-v4', 'UpNDown-v0', 'UpNDownDeterministic-v0', 'UpNDownNoFrameskip-v0', 'UpNDown-v4', 'UpNDownDeterministic-v4', 'UpNDownNoFrameskip-v4', 'UpNDown-ram-v0', 'UpNDown-ramDeterministic-v0', 'UpNDown-ramNoFrameskip-v0', 'UpNDown-ram-v4', 'UpNDown-ramDeterministic-v4', 'UpNDown-ramNoFrameskip-v4', 'Venture-v0', 'VentureDeterministic-v0', 'VentureNoFrameskip-v0', 'Venture-v4', 'VentureDeterministic-v4', 'VentureNoFrameskip-v4', 'Venture-ram-v0', 'Venture-ramDeterministic-v0', 'Venture-ramNoFrameskip-v0', 'Venture-ram-v4', 'Venture-ramDeterministic-v4', 'Venture-ramNoFrameskip-v4', 'VideoPinball-v0', 'VideoPinballDeterministic-v0', 'VideoPinballNoFrameskip-v0', 'VideoPinball-v4', 'VideoPinballDeterministic-v4', 'VideoPinballNoFrameskip-v4', 'VideoPinball-ram-v0', 'VideoPinball-ramDeterministic-v0', 'VideoPinball-ramNoFrameskip-v0', 'VideoPinball-ram-v4', 'VideoPinball-ramDeterministic-v4', 'VideoPinball-ramNoFrameskip-v4', 'WizardOfWor-v0', 'WizardOfWorDeterministic-v0', 'WizardOfWorNoFrameskip-v0', 'WizardOfWor-v4', 'WizardOfWorDeterministic-v4', 'WizardOfWorNoFrameskip-v4', 'WizardOfWor-ram-v0', 'WizardOfWor-ramDeterministic-v0', 'WizardOfWor-ramNoFrameskip-v0', 'WizardOfWor-ram-v4', 'WizardOfWor-ramDeterministic-v4', 'WizardOfWor-ramNoFrameskip-v4', 'YarsRevenge-v0', 'YarsRevengeDeterministic-v0', 'YarsRevengeNoFrameskip-v0', 'YarsRevenge-v4', 'YarsRevengeDeterministic-v4', 'YarsRevengeNoFrameskip-v4', 'YarsRevenge-ram-v0', 'YarsRevenge-ramDeterministic-v0', 'YarsRevenge-ramNoFrameskip-v0', 'YarsRevenge-ram-v4', 'YarsRevenge-ramDeterministic-v4', 'YarsRevenge-ramNoFrameskip-v4', 'Zaxxon-v0', 'ZaxxonDeterministic-v0', 'ZaxxonNoFrameskip-v0', 'Zaxxon-v4', 'ZaxxonDeterministic-v4', 'ZaxxonNoFrameskip-v4', 'Zaxxon-ram-v0', 'Zaxxon-ramDeterministic-v0', 'Zaxxon-ramNoFrameskip-v0', 'Zaxxon-ram-v4', 'Zaxxon-ramDeterministic-v4', 'Zaxxon-ramNoFrameskip-v4', 'ALE/Adventure-v5', 'ALE/Adventure-ram-v5', 'ALE/AirRaid-v5', 'ALE/AirRaid-ram-v5', 'ALE/Alien-v5', 'ALE/Alien-ram-v5', 'ALE/Amidar-v5', 'ALE/Amidar-ram-v5', 'ALE/Assault-v5', 'ALE/Assault-ram-v5', 'ALE/Asterix-v5', 'ALE/Asterix-ram-v5', 'ALE/Asteroids-v5', 'ALE/Asteroids-ram-v5', 'ALE/Atlantis2-v5', 'ALE/Atlantis2-ram-v5', 'ALE/Atlantis-v5', 'ALE/Atlantis-ram-v5', 'ALE/Backgammon-v5', 'ALE/Backgammon-ram-v5', 'ALE/BankHeist-v5', 'ALE/BankHeist-ram-v5', 'ALE/BasicMath-v5', 'ALE/BasicMath-ram-v5', 'ALE/BattleZone-v5', 'ALE/BattleZone-ram-v5', 'ALE/BeamRider-v5', 'ALE/BeamRider-ram-v5', 'ALE/Berzerk-v5', 'ALE/Berzerk-ram-v5', 'ALE/Blackjack-v5', 'ALE/Blackjack-ram-v5', 'ALE/Bowling-v5', 'ALE/Bowling-ram-v5', 'ALE/Boxing-v5', 'ALE/Boxing-ram-v5', 'ALE/Breakout-v5', 'ALE/Breakout-ram-v5', 'ALE/Carnival-v5', 'ALE/Carnival-ram-v5', 'ALE/Casino-v5', 'ALE/Casino-ram-v5', 'ALE/Centipede-v5', 'ALE/Centipede-ram-v5', 'ALE/ChopperCommand-v5', 'ALE/ChopperCommand-ram-v5', 'ALE/Combat-v5', 'ALE/Combat-ram-v5', 'ALE/CrazyClimber-v5', 'ALE/CrazyClimber-ram-v5', 'ALE/Crossbow-v5', 'ALE/Crossbow-ram-v5', 'ALE/Darkchambers-v5', 'ALE/Darkchambers-ram-v5', 'ALE/Defender-v5', 'ALE/Defender-ram-v5', 'ALE/DemonAttack-v5', 'ALE/DemonAttack-ram-v5', 'ALE/DonkeyKong-v5', 'ALE/DonkeyKong-ram-v5', 'ALE/DoubleDunk-v5', 'ALE/DoubleDunk-ram-v5', 'ALE/Earthworld-v5', 'ALE/Earthworld-ram-v5', 'ALE/ElevatorAction-v5', 'ALE/ElevatorAction-ram-v5', 'ALE/Enduro-v5', 'ALE/Enduro-ram-v5', 'ALE/Entombed-v5', 'ALE/Entombed-ram-v5', 'ALE/Et-v5', 'ALE/Et-ram-v5', 'ALE/FishingDerby-v5', 'ALE/FishingDerby-ram-v5', 'ALE/FlagCapture-v5', 'ALE/FlagCapture-ram-v5', 'ALE/Freeway-v5', 'ALE/Freeway-ram-v5', 'ALE/Frogger-v5', 'ALE/Frogger-ram-v5', 'ALE/Frostbite-v5', 'ALE/Frostbite-ram-v5', 'ALE/Galaxian-v5', 'ALE/Galaxian-ram-v5', 'ALE/Gopher-v5', 'ALE/Gopher-ram-v5', 'ALE/Gravitar-v5', 'ALE/Gravitar-ram-v5', 'ALE/Hangman-v5', 'ALE/Hangman-ram-v5', 'ALE/HauntedHouse-v5', 'ALE/HauntedHouse-ram-v5', 'ALE/Hero-v5', 'ALE/Hero-ram-v5', 'ALE/HumanCannonball-v5', 'ALE/HumanCannonball-ram-v5', 'ALE/IceHockey-v5', 'ALE/IceHockey-ram-v5', 'ALE/Jamesbond-v5', 'ALE/Jamesbond-ram-v5', 'ALE/JourneyEscape-v5', 'ALE/JourneyEscape-ram-v5', 'ALE/Joust-v5', 'ALE/Joust-ram-v5', 'ALE/Kaboom-v5', 'ALE/Kaboom-ram-v5', 'ALE/Kangaroo-v5', 'ALE/Kangaroo-ram-v5', 'ALE/KeystoneKapers-v5', 'ALE/KeystoneKapers-ram-v5', 'ALE/KingKong-v5', 'ALE/KingKong-ram-v5', 'ALE/Klax-v5', 'ALE/Klax-ram-v5', 'ALE/Koolaid-v5', 'ALE/Koolaid-ram-v5', 'ALE/Krull-v5', 'ALE/Krull-ram-v5', 'ALE/KungFuMaster-v5', 'ALE/KungFuMaster-ram-v5', 'ALE/LaserGates-v5', 'ALE/LaserGates-ram-v5', 'ALE/LostLuggage-v5', 'ALE/LostLuggage-ram-v5', 'ALE/MarioBros-v5', 'ALE/MarioBros-ram-v5', 'ALE/MazeCraze-v5', 'ALE/MazeCraze-ram-v5', 'ALE/MiniatureGolf-v5', 'ALE/MiniatureGolf-ram-v5', 'ALE/MontezumaRevenge-v5', 'ALE/MontezumaRevenge-ram-v5', 'ALE/MrDo-v5', 'ALE/MrDo-ram-v5', 'ALE/MsPacman-v5', 'ALE/MsPacman-ram-v5', 'ALE/NameThisGame-v5', 'ALE/NameThisGame-ram-v5', 'ALE/Othello-v5', 'ALE/Othello-ram-v5', 'ALE/Pacman-v5', 'ALE/Pacman-ram-v5', 'ALE/Phoenix-v5', 'ALE/Phoenix-ram-v5', 'ALE/Pitfall2-v5', 'ALE/Pitfall2-ram-v5', 'ALE/Pitfall-v5', 'ALE/Pitfall-ram-v5', 'ALE/Pong-v5', 'ALE/Pong-ram-v5', 'ALE/Pooyan-v5', 'ALE/Pooyan-ram-v5', 'ALE/PrivateEye-v5', 'ALE/PrivateEye-ram-v5', 'ALE/Qbert-v5', 'ALE/Qbert-ram-v5', 'ALE/Riverraid-v5', 'ALE/Riverraid-ram-v5', 'ALE/RoadRunner-v5', 'ALE/RoadRunner-ram-v5', 'ALE/Robotank-v5', 'ALE/Robotank-ram-v5', 'ALE/Seaquest-v5', 'ALE/Seaquest-ram-v5', 'ALE/SirLancelot-v5', 'ALE/SirLancelot-ram-v5', 'ALE/Skiing-v5', 'ALE/Skiing-ram-v5', 'ALE/Solaris-v5', 'ALE/Solaris-ram-v5', 'ALE/SpaceInvaders-v5', 'ALE/SpaceInvaders-ram-v5', 'ALE/SpaceWar-v5', 'ALE/SpaceWar-ram-v5', 'ALE/StarGunner-v5', 'ALE/StarGunner-ram-v5', 'ALE/Superman-v5', 'ALE/Superman-ram-v5', 'ALE/Surround-v5', 'ALE/Surround-ram-v5', 'ALE/Tennis-v5', 'ALE/Tennis-ram-v5', 'ALE/Tetris-v5', 'ALE/Tetris-ram-v5', 'ALE/TicTacToe3D-v5', 'ALE/TicTacToe3D-ram-v5', 'ALE/TimePilot-v5', 'ALE/TimePilot-ram-v5', 'ALE/Trondead-v5', 'ALE/Trondead-ram-v5', 'ALE/Turmoil-v5', 'ALE/Turmoil-ram-v5', 'ALE/Tutankham-v5', 'ALE/Tutankham-ram-v5', 'ALE/UpNDown-v5', 'ALE/UpNDown-ram-v5', 'ALE/Venture-v5', 'ALE/Venture-ram-v5', 'ALE/VideoCheckers-v5', 'ALE/VideoCheckers-ram-v5', 'ALE/VideoChess-v5', 'ALE/VideoChess-ram-v5', 'ALE/VideoCube-v5', 'ALE/VideoCube-ram-v5', 'ALE/VideoPinball-v5', 'ALE/VideoPinball-ram-v5', 'ALE/Warlords-v5', 'ALE/Warlords-ram-v5', 'ALE/WizardOfWor-v5', 'ALE/WizardOfWor-ram-v5', 'ALE/WordZapper-v5', 'ALE/WordZapper-ram-v5', 'ALE/YarsRevenge-v5', 'ALE/YarsRevenge-ram-v5', 'ALE/Zaxxon-v5', 'ALE/Zaxxon-ram-v5'])\n"
     ]
    }
   ],
   "source": [
    "# вывод всех доступных сред\n",
    "print(gym.envs.registry.keys())"
   ]
  },
  {
   "cell_type": "markdown",
   "id": "37e87413-8902-4b6c-b52f-79ee57a98210",
   "metadata": {},
   "source": [
    "Версии используемых библиотек"
   ]
  },
  {
   "cell_type": "code",
   "execution_count": 3,
   "id": "76f90f65",
   "metadata": {},
   "outputs": [
    {
     "name": "stdout",
     "output_type": "stream",
     "text": [
      "gymnasium version: 1.0.0\n",
      "swig version: 4.3.0\n",
      "mujoco version: 3.2.7\n",
      "mujoco version: 0.10.1\n"
     ]
    }
   ],
   "source": [
    "import gymnasium\n",
    "print(\"gymnasium version:\", gymnasium.__version__)\n",
    "import swig\n",
    "print(\"swig version:\", swig.__version__)\n",
    "import mujoco\n",
    "print(\"mujoco version:\", mujoco.__version__)\n",
    "import ale_py\n",
    "print(\"mujoco version:\", ale_py.__version__)"
   ]
  },
  {
   "cell_type": "code",
   "execution_count": null,
   "id": "e3db191e-1e97-4c04-9301-21e9047d1d02",
   "metadata": {},
   "outputs": [],
   "source": []
  }
 ],
 "metadata": {
  "kernelspec": {
   "display_name": "Python [conda env:base] *",
   "language": "python",
   "name": "conda-base-py"
  },
  "language_info": {
   "codemirror_mode": {
    "name": "ipython",
    "version": 3
   },
   "file_extension": ".py",
   "mimetype": "text/x-python",
   "name": "python",
   "nbconvert_exporter": "python",
   "pygments_lexer": "ipython3",
   "version": "3.12.7"
  }
 },
 "nbformat": 4,
 "nbformat_minor": 5
}
